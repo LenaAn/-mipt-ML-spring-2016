{
 "cells": [
  {
   "cell_type": "code",
   "execution_count": 132,
   "metadata": {
    "collapsed": false
   },
   "outputs": [],
   "source": [
    "import pandas\n",
    "import numpy\n",
    "from string import ascii_lowercase, ascii_uppercase"
   ]
  },
  {
   "cell_type": "code",
   "execution_count": 218,
   "metadata": {
    "collapsed": false
   },
   "outputs": [],
   "source": [
    "eng_words = pandas.read_csv(\"/usr/share/dict/american-english\", delimiter = '\\n', header=None)"
   ]
  },
  {
   "cell_type": "code",
   "execution_count": 224,
   "metadata": {
    "collapsed": false
   },
   "outputs": [
    {
     "name": "stdout",
     "output_type": "stream",
     "text": [
      "<class 'pandas.core.series.Series'>\n"
     ]
    }
   ],
   "source": [
    "print(type(eng_words[0]))"
   ]
  },
  {
   "cell_type": "code",
   "execution_count": 9,
   "metadata": {
    "collapsed": true
   },
   "outputs": [],
   "source": [
    "test_string = 'she found him difficult to talk'"
   ]
  },
  {
   "cell_type": "code",
   "execution_count": 62,
   "metadata": {
    "collapsed": true
   },
   "outputs": [],
   "source": [
    "def cipher(string):\n",
    "    permutation = numpy.random.permutation(26)\n",
    "    new_string = ''\n",
    "    for symbol in string:\n",
    "        if symbol in ascii_lowercase:\n",
    "            new_string += (chr(permutation[ord(symbol) - ord('a')] + ord('a')))\n",
    "        else:\n",
    "            new_string += symbol\n",
    "    return new_string"
   ]
  },
  {
   "cell_type": "code",
   "execution_count": 64,
   "metadata": {
    "collapsed": false
   },
   "outputs": [
    {
     "name": "stdout",
     "output_type": "stream",
     "text": [
      "fgy klwov gjp vjkkjdwqa al azqh\n"
     ]
    }
   ],
   "source": [
    "ciphered = cipher(test_string)\n",
    "print(ciphered)"
   ]
  },
  {
   "cell_type": "code",
   "execution_count": 77,
   "metadata": {
    "collapsed": false
   },
   "outputs": [
    {
     "name": "stdout",
     "output_type": "stream",
     "text": [
      "[[1, 'd'], [1, 'f'], [1, 'h'], [1, 'o'], [1, 'p'], [1, 'y'], [1, 'z'], [2, 'g'], [2, 'g'], [2, 'l'], [2, 'l'], [2, 'q'], [2, 'q'], [2, 'v'], [2, 'v'], [2, 'w'], [2, 'w'], [3, 'a'], [3, 'a'], [3, 'a'], [3, 'j'], [3, 'j'], [3, 'j'], [3, 'k'], [3, 'k'], [3, 'k'], [5, ' '], [5, ' '], [5, ' '], [5, ' '], [5, ' ']]\n"
     ]
    }
   ],
   "source": [
    "print (sorted([ciphered.count(symbol), symbol] for symbol in ciphered))"
   ]
  },
  {
   "cell_type": "code",
   "execution_count": 85,
   "metadata": {
    "collapsed": false
   },
   "outputs": [
    {
     "name": "stdout",
     "output_type": "stream",
     "text": [
      "[[1, ' g'], [1, ' k'], [1, ' v'], [1, 'a '], [1, 'al'], [1, 'az'], [1, 'dw'], [1, 'fg'], [1, 'gj'], [1, 'gy'], [1, 'jd'], [1, 'jk'], [1, 'jp'], [1, 'kj'], [1, 'kk'], [1, 'kl'], [1, 'l '], [1, 'lw'], [1, 'ov'], [1, 'p '], [1, 'qa'], [1, 'qh'], [1, 'v '], [1, 'vj'], [1, 'wo'], [1, 'wq'], [1, 'y '], [1, 'zq'], [2, ' a'], [2, ' a']]\n"
     ]
    }
   ],
   "source": [
    "print (sorted([ciphered.count(ciphered[i] + ciphered[i + 1]), ciphered[i] + ciphered[i + 1]] \n",
    "              for i in range(len(ciphered) - 1)))"
   ]
  },
  {
   "cell_type": "markdown",
   "metadata": {},
   "source": [
    "Нет повторяющихся n-грамм, метод кроссворда не работает.\n",
    "Возьму самое длинное слово и найду в словаре слова с его же фильтром.\n",
    "Будет функция только сравнить маски, потому что слово само себе маска. Или пользоваться алфавитом для создания масок?"
   ]
  },
  {
   "cell_type": "code",
   "execution_count": 91,
   "metadata": {
    "collapsed": false
   },
   "outputs": [
    {
     "data": {
      "text/plain": [
       "'vjkkjdwqa'"
      ]
     },
     "execution_count": 91,
     "metadata": {},
     "output_type": "execute_result"
    }
   ],
   "source": [
    "sorted(ciphered.split(), key=len, reverse=True)[0]"
   ]
  },
  {
   "cell_type": "code",
   "execution_count": 170,
   "metadata": {
    "collapsed": false
   },
   "outputs": [],
   "source": [
    "def mask(string):\n",
    "    cnt = 'A'\n",
    "    for i in range(len(string)):\n",
    "        if string[i] in ascii_lowercase:\n",
    "            string = string.replace(string[i], cnt)\n",
    "            cnt = chr(ord(cnt) + 1)\n",
    "    return string"
   ]
  },
  {
   "cell_type": "code",
   "execution_count": 172,
   "metadata": {
    "collapsed": false
   },
   "outputs": [
    {
     "name": "stdout",
     "output_type": "stream",
     "text": [
      "ABC DEFGH BIJ HIDDIKFLM ME MNLO\n",
      "fgy klwov gjp vjkkjdwqa al azqh\n"
     ]
    }
   ],
   "source": [
    "print(mask(ciphered))\n",
    "print(ciphered)"
   ]
  },
  {
   "cell_type": "markdown",
   "metadata": {},
   "source": [
    "Так, теперь надо уметь быстро искать в словаре по маске. Разобью весь словарь по длине, а потом посмотрим."
   ]
  },
  {
   "cell_type": "code",
   "execution_count": 239,
   "metadata": {
    "collapsed": false,
    "scrolled": true
   },
   "outputs": [
    {
     "name": "stdout",
     "output_type": "stream",
     "text": [
      "['ballasted', 'battalion', 'bettering', 'billiards', 'billionth', 'borrowing', 'bottoming', 'colloquia', 'commodity', 'commoners', 'commonest', 'corroding', 'corrosive', 'difficult', 'dissipate', 'doggonest', 'dolloping', 'fallacies', 'ferreting', 'fettering', 'fittingly', 'followers', 'following', 'gallantry', 'gimmickry', 'gutturals', 'hollowest', 'hollowing', 'letterbox', 'lettering', 'massacred', 'milliners', 'millinery', 'millionth', 'missilery', 'narrative', 'palladium', 'pelleting', 'pizzicato', 'sorrowful', 'sorrowing', 'succulent', 'succumbed', 'suppurate', 'tarragons', 'wallabies', 'warranted', 'wassailed', 'wittingly', 'zeppelins']\n"
     ]
    }
   ],
   "source": [
    "first_word = sorted(ciphered.split(), key=len, reverse=True)[0]\n",
    "mask_needed0 = mask(first_word)\n",
    "word_needed0 = []\n",
    "for word in eng_words[0]:\n",
    "    if (len(word)) == (len(mask_needed0)) and (mask(word) == mask_needed0):\n",
    "        word_needed0.append(word)\n",
    "print(word_needed0)"
   ]
  },
  {
   "cell_type": "markdown",
   "metadata": {},
   "source": [
    "Найдем слова, подходящие по маске ко второму по длине слову. И пересечем их. Зафигачим маски на словосочетания."
   ]
  },
  {
   "cell_type": "code",
   "execution_count": 240,
   "metadata": {
    "collapsed": false,
    "scrolled": true
   },
   "outputs": [
    {
     "name": "stdout",
     "output_type": "stream",
     "text": [
      "['abets', 'abhor', 'abide', 'abler', 'abode', 'abort', 'about', 'above', 'abuse', 'abuts', 'ached', 'aches', 'acids', 'acing', 'acmes', 'acorn', 'acres', 'acrid', 'acted', 'actor', 'acute', 'adept', 'adieu', 'admen', 'admit', 'adobe', 'adopt', 'adore', 'adorn', 'adult', 'adzes', 'aegis', 'aeons', 'afire', 'afoul', 'after', 'agent', 'agile', 'agism', 'aglow', 'agony', 'aides', 'ailed', 'aimed', 'aired', 'aisle', 'album', 'alder', 'alert', 'alien', 'align', 'alike', 'aline', 'alive', 'aloes', 'aloft', 'alone', 'along', 'aloud', 'alter', 'altho', 'altos', 'alums', 'amber', 'amble', 'amend', 'amigo', 'amirs', 'amity', 'among', 'amour', 'ample', 'amply', 'ampul', 'amuck', 'amuse', 'angel', 'anger', 'angle', 'angry', 'angst', 'anise', 'ankhs', 'ankle', 'anode', 'anted', 'antes', 'antic', 'antis', 'anvil', 'aphid', 'aping', 'apron', 'apter', 'aptly', 'arced', 'argon', 'argot', 'argue', 'arise', 'armed', 'arose', 'arson', 'artsy', 'ascot', 'ashed', 'ashen', 'aside', 'asked', 'askew', 'aspen', 'aspic', 'aster', 'astir', 'atoms', 'atone', 'audio', 'audit', 'auger', 'aught', 'aunts', 'autos', 'avers', 'avert', 'avoid', 'avows', 'awful', 'awing', 'awoke', 'axing', 'axiom', 'axles', 'axons', 'azure', 'backs', 'bacon', 'badge', 'badly', 'bagel', 'bails', 'baits', 'baize', 'baked', 'baker', 'bakes', 'balds', 'baled', 'bales', 'balks', 'balky', 'balms', 'balmy', 'bands', 'bandy', 'banes', 'bangs', 'banjo', 'banks', 'bards', 'bared', 'bares', 'barfs', 'barge', 'barks', 'barns', 'baron', 'based', 'baser', 'basic', 'basil', 'basin', 'baste', 'batch', 'bated', 'bates', 'bathe', 'baths', 'batik', 'baton', 'bauds', 'bawdy', 'bawls', 'bayed', 'bayou', 'beach', 'beads', 'beady', 'beaks', 'beams', 'beans', 'beard', 'bears', 'beast', 'beats', 'beaus', 'beaux', 'becks', 'befit', 'befog', 'began', 'begat', 'begin', 'begot', 'begun', 'being', 'belay', 'belch', 'below', 'belts', 'bench', 'bends', 'bents', 'bergs', 'berms', 'berth', 'beryl', 'besom', 'besot', 'betas', 'bicep', 'bides', 'bidet', 'biers', 'bight', 'bigot', 'biked', 'biker', 'bikes', 'bilge', 'bilks', 'binds', 'binge', 'bingo', 'biped', 'birch', 'birds', 'birth', 'bison', 'bitch', 'bites', 'black', 'blade', 'blame', 'bland', 'blank', 'blare', 'blast', 'blaze', 'bleak', 'bleat', 'blend', 'blent', 'blest', 'blimp', 'blind', 'blink', 'blips', 'blitz', 'bloat', 'block', 'blocs', 'blogs', 'blond', 'blots', 'blown', 'blows', 'blued', 'bluer', 'blues', 'blunt', 'blurs', 'blurt', 'blush', 'board', 'boars', 'boast', 'boats', 'bodes', 'bogey', 'bogie', 'bogus', 'boils', 'bolas', 'boles', 'bolts', 'bonds', 'boned', 'boner', 'bones', 'boney', 'bongs', 'bonus', 'borax', 'bored', 'bores', 'borne', 'bosun', 'botch', 'bough', 'bound', 'bouts', 'bowed', 'bowel', 'bower', 'bowls', 'boxed', 'boxer', 'boxes', 'brace', 'bract', 'brads', 'brags', 'braid', 'brain', 'brake', 'brand', 'brash', 'brats', 'brave', 'bravo', 'brawl', 'brawn', 'brays', 'bread', 'break', 'brews', 'brick', 'bride', 'brief', 'brigs', 'brims', 'brine', 'bring', 'brink', 'briny', 'brisk', 'broad', 'broil', 'broke', 'broth', 'brown', 'brows', 'bruin', 'brunt', 'brush', 'brusk', 'brute', 'bucks', 'budge', 'bugle', 'build', 'built', 'bulge', 'bulgy', 'bulks', 'bulky', 'bumps', 'bumpy', 'bunch', 'bungs', 'bunks', 'bunts', 'buoys', 'burgs', 'burly', 'burns', 'burnt', 'burps', 'burst', 'bused', 'bushy', 'butch', 'buxom', 'buyer', 'bylaw', 'bytes', 'cabin', 'cable', 'cadet', 'cadge', 'cadre', 'caged', 'cages', 'cagey', 'cairn', 'caked', 'cakes', 'calfs', 'calif', 'calks', 'calms', 'calve', 'calyx', 'camel', 'cameo', 'camps', 'campy', 'candy', 'caned', 'canes', 'canoe', 'canto', 'cants', 'caped', 'caper', 'capes', 'capon', 'cards', 'cared', 'cares', 'caret', 'cargo', 'carol', 'carom', 'carpi', 'carps', 'carts', 'carve', 'cased', 'caste', 'cater', 'caulk', 'cause', 'caved', 'caves', 'cavil', 'cawed', 'cedar', 'cents', 'chafe', 'chain', 'chair', 'chalk', 'champ', 'chant', 'chaos', 'chaps', 'chapt', 'charm', 'chars', 'chart', 'chary', 'chase', 'chasm', 'chats', 'cheap', 'cheat', 'chefs', 'chest', 'chews', 'chewy', 'chide', 'chief', 'child', 'chile', 'chime', 'chimp', 'china', 'chink', 'chino', 'chins', 'chips', 'chirp', 'chits', 'chive', 'choir', 'choke', 'chomp', 'chops', 'chord', 'chore', 'chose', 'chows', 'chugs', 'chump', 'chums', 'chunk', 'churl', 'churn', 'chute', 'cider', 'cigar', 'cited', 'cites', 'civet', 'claim', 'clamp', 'clams', 'clang', 'clank', 'clans', 'claps', 'clash', 'clasp', 'claws', 'clean', 'clear', 'cleat', 'clefs', 'cleft', 'clerk', 'clews', 'climb', 'clime', 'cling', 'clink', 'clips', 'clipt', 'cloak', 'clods', 'clogs', 'clomp', 'clone', 'clops', 'close', 'cloth', 'clots', 'cloud', 'clout', 'clove', 'clown', 'cloys', 'clubs', 'clued', 'clues', 'clump', 'clung', 'clunk', 'coals', 'coast', 'coats', 'cobra', 'codas', 'codes', 'codex', 'coeds', 'coifs', 'coils', 'coins', 'coked', 'cokes', 'colas', 'colds', 'colts', 'comas', 'combs', 'comer', 'comes', 'comet', 'comfy', 'cones', 'conga', 'conks', 'coped', 'copes', 'copra', 'copse', 'coral', 'cords', 'cored', 'cores', 'corks', 'corms', 'corns', 'corny', 'corps', 'cotes', 'cough', 'could', 'count', 'coupe', 'coups', 'court', 'coven', 'cover', 'coves', 'covet', 'covey', 'cowed', 'cower', 'cowls', 'coyer', 'cozen', 'crabs', 'craft', 'crags', 'cramp', 'crams', 'crane', 'crank', 'crape', 'craps', 'crash', 'crate', 'crave', 'crawl', 'craws', 'craze', 'crazy', 'creak', 'cream', 'credo', 'crept', 'crest', 'crews', 'cribs', 'cried', 'cries', 'crime', 'crimp', 'crisp', 'croak', 'crone', 'crony', 'crops', 'croup', 'crowd', 'crown', 'crows', 'crude', 'cruel', 'cruet', 'crumb', 'crush', 'crust', 'crypt', 'cubed', 'cubes', 'cubit', 'cuing', 'cults', 'cumin', 'cunts', 'curbs', 'curds', 'cured', 'cures', 'curie', 'curio', 'curls', 'curly', 'curse', 'curst', 'curve', 'curvy', 'cushy', 'cuter', 'czars', 'daily', 'dairy', 'daisy', 'dales', 'dames', 'damns', 'damps', 'dance', 'dares', 'darns', 'darts', 'dates', 'datum', 'daubs', 'daunt', 'davit', 'dawns', 'dazes', 'deals', 'dealt', 'deans', 'dears', 'death', 'debar', 'debit', 'debts', 'debug', 'debut', 'decaf', 'decal', 'decay', 'decks', 'decor', 'decoy', 'decry', 'deify', 'deign', 'deism', 'deity', 'delay', 'delis', 'delta', 'demon', 'demos', 'demur', 'denim', 'dents', 'depot', 'depth', 'derby', 'detox', 'devil', 'dhoti', 'dials', 'diary', 'dices', 'dicey', 'dicks', 'dicky', 'dicta', 'diets', 'dikes', 'dimer', 'dimes', 'dimly', 'diner', 'dines', 'dingo', 'dings', 'dingy', 'dinky', 'dirge', 'dirks', 'dirty', 'disco', 'ditch', 'divan', 'divas', 'diver', 'dives', 'divot', 'docks', 'doers', 'dogie', 'dogma', 'doily', 'doing', 'doles', 'dolts', 'domes', 'donut', 'dopes', 'dopey', 'dorks', 'dorky', 'dorms', 'dotes', 'doubt', 'dough', 'douse', 'doves', 'dowel', 'downs', 'downy', 'dowry', 'dowse', 'doyen', 'dozen', 'dozes', 'drabs', 'draft', 'drags', 'drain', 'drake', 'drams', 'drank', 'drape', 'drawl', 'drawn', 'draws', 'drays', 'dream', 'dregs', 'dries', 'drift', 'drily', 'drink', 'drips', 'drive', 'drone', 'drops', 'drove', 'drown', 'drubs', 'drugs', 'drums', 'drunk', 'ducal', 'ducat', 'duchy', 'ducks', 'ducts', 'duels', 'duets', 'dukes', 'dumps', 'dumpy', 'dunce', 'dunes', 'dungs', 'dunks', 'dupes', 'dusky', 'dusty', 'duvet', 'dwarf', 'dwelt', 'dyers', 'dying', 'dykes', 'earls', 'early', 'earns', 'earth', 'ebony', 'echos', 'edict', 'edify', 'edits', 'eight', 'eking', 'elbow', 'elfin', 'email', 'emirs', 'emits', 'empty', 'enact', 'endow', 'enjoy', 'enrol', 'entry', 'envoy', 'epics', 'epoch', 'epoxy', 'equal', 'equip', 'erupt', 'ethic', 'ethos', 'euros', 'evict', 'evils', 'exact', 'exalt', 'exams', 'exist', 'exits', 'expos', 'extol', 'extra', 'exult', 'eying', 'fable', 'faced', 'faces', 'facet', 'facts', 'fades', 'fagot', 'fails', 'faint', 'fairs', 'fairy', 'faith', 'faked', 'faker', 'fakes', 'fakir', 'false', 'famed', 'fancy', 'fangs', 'farce', 'fared', 'fares', 'farms', 'farts', 'fated', 'fates', 'fault', 'fauns', 'favor', 'fawns', 'faxed', 'faxes', 'fazed', 'fazes', 'fears', 'feast', 'feats', 'fecal', 'feign', 'feint', 'felon', 'felts', 'femur', 'fends', 'feral', 'ferns', 'fetal', 'fetch', 'fetid', 'fetus', 'feuds', 'fiats', 'fiber', 'fiche', 'field', 'fiend', 'fiery', 'fight', 'filch', 'filed', 'files', 'filet', 'films', 'filmy', 'filth', 'final', 'finch', 'finds', 'fined', 'finer', 'fines', 'finks', 'fiord', 'fired', 'fires', 'firms', 'first', 'firth', 'fishy', 'fitly', 'fiver', 'fives', 'fixed', 'fixer', 'fixes', 'fjord', 'flack', 'flags', 'flair', 'flake', 'flaky', 'flame', 'flank', 'flaps', 'flare', 'flash', 'flask', 'flats', 'flaws', 'flays', 'fleas', 'fleck', 'flesh', 'flick', 'flied', 'flier', 'flies', 'fling', 'flint', 'flips', 'flirt', 'flits', 'float', 'flock', 'floes', 'flogs', 'flops', 'flora', 'flour', 'flout', 'flown', 'flows', 'flubs', 'flues', 'fluid', 'fluke', 'fluky', 'flume', 'flung', 'flunk', 'flush', 'flute', 'flyer', 'foals', 'foams', 'foamy', 'focal', 'focus', 'fogey', 'foils', 'foist', 'folds', 'folks', 'fondu', 'fonts', 'foray', 'force', 'fords', 'fores', 'forge', 'forks', 'forms', 'forte', 'forth', 'forts', 'forty', 'forum', 'fouls', 'found', 'fount', 'fours', 'fowls', 'foxed', 'foxes', 'foyer', 'frail', 'frame', 'franc', 'frank', 'frats', 'fraud', 'frays', 'freak', 'fresh', 'frets', 'fried', 'fries', 'frisk', 'frock', 'frogs', 'frond', 'front', 'frost', 'froth', 'frown', 'froze', 'fruit', 'frump', 'fucks', 'fudge', 'fuels', 'fumed', 'fumes', 'funds', 'fungi', 'funks', 'funky', 'furls', 'furze', 'fused', 'fusty', 'futon', 'fuzed', 'fuzes', 'gable', 'gaily', 'gains', 'gaits', 'gales', 'gamed', 'gamer', 'games', 'gamey', 'gamin', 'gamut', 'gaped', 'gapes', 'garbs', 'gated', 'gates', 'gaudy', 'gaunt', 'gauze', 'gauzy', 'gavel', 'gawks', 'gawky', 'gayer', 'gazed', 'gazer', 'gazes', 'gears', 'gecko', 'gelds', 'gelid', 'gents', 'genus', 'germs', 'getup', 'ghost', 'ghoul', 'giant', 'gibed', 'gibes', 'gifts', 'gilds', 'gilts', 'gimpy', 'gipsy', 'girds', 'girls', 'girth', 'girts', 'gismo', 'given', 'gives', 'gizmo', 'glade', 'glads', 'gland', 'glare', 'glaze', 'gleam', 'glean', 'glens', 'glide', 'glint', 'glitz', 'gloat', 'globe', 'globs', 'glory', 'glove', 'glows', 'glued', 'glues', 'gluey', 'gluts', 'glyph', 'gnarl', 'gnash', 'gnats', 'gnaws', 'gnome', 'goads', 'goals', 'goats', 'godly', 'gofer', 'golds', 'golfs', 'gonad', 'goner', 'gored', 'gores', 'gorse', 'gourd', 'gouty', 'gowns', 'grabs', 'grace', 'grade', 'grads', 'graft', 'grail', 'grain', 'grams', 'grand', 'grant', 'grape', 'graph', 'grasp', 'grate', 'grave', 'gravy', 'grays', 'graze', 'great', 'greys', 'grids', 'grief', 'grime', 'grimy', 'grind', 'grins', 'gripe', 'grips', 'grist', 'grits', 'groan', 'groin', 'grope', 'group', 'grout', 'grove', 'growl', 'grown', 'grows', 'grubs', 'gruel', 'grunt', 'guano', 'guard', 'guest', 'guide', 'guild', 'guile', 'guilt', 'guise', 'gulch', 'gulfs', 'gulps', 'gumbo', 'gushy', 'gusto', 'gusty', 'gutsy', 'guyed', 'gybed', 'gybes', 'gyros', 'habit', 'hacks', 'hafts', 'haiku', 'hails', 'hairs', 'hairy', 'hakes', 'haled', 'haler', 'hales', 'halon', 'halos', 'halts', 'halve', 'hands', 'handy', 'hangs', 'hanks', 'hanky', 'hardy', 'hared', 'harem', 'hares', 'harks', 'harms', 'harps', 'harpy', 'harts', 'haste', 'hasty', 'hated', 'hater', 'hates', 'hauls', 'haunt', 'haven', 'haves', 'havoc', 'hawed', 'hawks', 'hayed', 'hazed', 'hazel', 'hazes', 'heads', 'heady', 'heals', 'heaps', 'heard', 'hears', 'heart', 'heats', 'heavy', 'hefts', 'hefty', 'heirs', 'heist', 'helix', 'helms', 'helot', 'helps', 'herbs', 'herds', 'heron', 'heros', 'hertz', 'hicks', 'hides', 'hiked', 'hiker', 'hikes', 'hilts', 'hinds', 'hinge', 'hints', 'hired', 'hires', 'hived', 'hives', 'hoagy', 'hoard', 'hoary', 'hocks', 'hogan', 'hoist', 'hokey', 'hokum', 'holds', 'holed', 'holes', 'homed', 'homer', 'homes', 'homey', 'homie', 'honed', 'hones', 'honey', 'honks', 'hoped', 'hopes', 'horde', 'horns', 'horny', 'horse', 'horsy', 'hosed', 'hotel', 'hotly', 'hound', 'hours', 'house', 'hovel', 'hover', 'howdy', 'howls', 'huger', 'hulas', 'hulks', 'human', 'humid', 'humor', 'humps', 'hunks', 'hunts', 'hurls', 'hurts', 'husky', 'hydra', 'hyena', 'hying', 'hymen', 'hymns', 'hyped', 'hyper', 'hypes', 'hypos', 'iambs', 'icons', 'ideal', 'ideas', 'idler', 'idles', 'idols', 'idyls', 'ikons', 'image', 'imbed', 'imbue', 'impel', 'imply', 'inapt', 'incur', 'index', 'indue', 'inept', 'inert', 'infer', 'ingot', 'inked', 'inlay', 'inlet', 'input', 'inset', 'inter', 'inure', 'iotas', 'irate', 'irked', 'irons', 'irony', 'islet', 'itchy', 'items', 'ivory', 'jabot', 'jacks', 'jades', 'jails', 'jambs', 'japed', 'japes', 'jaunt', 'jawed', 'jeans', 'jehad', 'jerks', 'jerky', 'jibed', 'jibes', 'jihad', 'jilts', 'jived', 'jives', 'jocks', 'johns', 'joins', 'joint', 'joist', 'joked', 'joker', 'jokes', 'jolts', 'joule', 'joust', 'jowls', 'joyed', 'judge', 'juice', 'juicy', 'julep', 'jumbo', 'jumps', 'jumpy', 'junco', 'junks', 'junky', 'junta', 'kaput', 'ketch', 'khans', 'kilns', 'kilos', 'kilts', 'kinda', 'kinds', 'kings', 'kited', 'kites', 'klutz', 'knave', 'knead', 'knelt', 'knife', 'knits', 'knobs', 'knots', 'knows', 'krone', 'kudos', 'labor', 'laced', 'laces', 'lacks', 'laden', 'lades', 'lager', 'lairs', 'laity', 'lakes', 'lambs', 'lamed', 'lamer', 'lames', 'lamps', 'lance', 'lands', 'lanes', 'lanky', 'lapse', 'larch', 'lards', 'large', 'largo', 'larks', 'laser', 'latch', 'later', 'latex', 'lathe', 'laths', 'lauds', 'laugh', 'lawns', 'laxer', 'layer', 'lazed', 'lazes', 'leach', 'leads', 'leafs', 'leafy', 'leaks', 'leaky', 'leans', 'leaps', 'leapt', 'learn', 'leash', 'least', 'lefts', 'lefty', 'legit', 'lemon', 'lemur', 'lends', 'letup', 'liars', 'licks', 'liens', 'lifer', 'lifts', 'light', 'liked', 'liken', 'liker', 'likes', 'limbo', 'limbs', 'limed', 'limes', 'limns', 'limos', 'limps', 'lined', 'liner', 'lines', 'lingo', 'links', 'lions', 'liras', 'liter', 'lithe', 'lived', 'liven', 'liver', 'lives', 'loads', 'loafs', 'loamy', 'loans', 'loath', 'lobed', 'lobes', 'locks', 'locus', 'lodes', 'lodge', 'lofts', 'lofty', 'loges', 'logic', 'loins', 'loner', 'longs', 'loped', 'lopes', 'lords', 'loser', 'lotus', 'louse', 'lousy', 'louts', 'loved', 'lover', 'loves', 'lowed', 'lower', 'loxes', 'lubed', 'lubes', 'lucid', 'lucks', 'lucky', 'lucre', 'lumps', 'lumpy', 'lunar', 'lunch', 'lunge', 'lungs', 'lupin', 'lurch', 'lured', 'lures', 'lurid', 'lurks', 'lusty', 'lutes', 'lying', 'lymph', 'lynch', 'lyres', 'lyric', 'maced', 'maces', 'macho', 'macro', 'madly', 'magic', 'maids', 'mails', 'mains', 'maize', 'major', 'maker', 'makes', 'males', 'malts', 'manes', 'mange', 'mango', 'mangy', 'manic', 'manly', 'manor', 'manse', 'maple', 'march', 'mares', 'marks', 'marsh', 'marts', 'mason', 'match', 'mated', 'mates', 'matzo', 'mauls', 'mauve', 'maven', 'mavin', 'maxed', 'maxes', 'maybe', 'mayor', 'mazes', 'meals', 'mealy', 'means', 'meant', 'meats', 'meaty', 'medal', 'media', 'medic', 'melds', 'melon', 'melts', 'mends', 'menus', 'meows', 'mercy', 'merit', 'metal', 'metro', 'mewls', 'miaow', 'micra', 'midge', 'midst', 'miens', 'might', 'miked', 'mikes', 'milch', 'miler', 'miles', 'milks', 'milky', 'mince', 'minds', 'mined', 'miner', 'mines', 'minks', 'minor', 'mints', 'minty', 'minus', 'mired', 'mires', 'mirth', 'misdo', 'miser', 'misty', 'miter', 'mites', 'mixed', 'mixer', 'mixes', 'moans', 'moats', 'mocha', 'mocks', 'modal', 'model', 'modes', 'mogul', 'moire', 'moist', 'molar', 'molds', 'moldy', 'moles', 'molts', 'money', 'monks', 'month', 'moped', 'mopes', 'moral', 'moray', 'mores', 'morns', 'mosey', 'motel', 'motes', 'moths', 'motif', 'mound', 'mount', 'mourn', 'mouse', 'mousy', 'mouth', 'moved', 'mover', 'moves', 'movie', 'mowed', 'mower', 'mucks', 'mucky', 'mufti', 'mulch', 'mules', 'munch', 'mural', 'murks', 'murky', 'mused', 'mushy', 'music', 'musky', 'musty', 'muted', 'muter', 'mutes', 'mynah', 'mynas', 'myths', 'nacho', 'nacre', 'nadir', 'nails', 'naive', 'naked', 'named', 'names', 'napes', 'narcs', 'narks', 'nasty', 'navel', 'naves', 'nears', 'neath', 'necks', 'neigh', 'nerds', 'nerdy', 'nervy', 'newly', 'newsy', 'newts', 'nexus', 'nicer', 'niche', 'nicks', 'nifty', 'night', 'niter', 'nites', 'nixed', 'nixes', 'noble', 'nobly', 'nodal', 'nodes', 'noels', 'noise', 'noisy', 'nomad', 'norms', 'north', 'nosed', 'nosey', 'notch', 'noted', 'notes', 'novae', 'novas', 'novel', 'noway', 'nuder', 'nudes', 'nudge', 'nuked', 'nukes', 'numbs', 'nurse', 'nymph', 'oaken', 'oakum', 'oared', 'oaten', 'oaths', 'obeys', 'obits', 'ocean', 'ocher', 'ochre', 'octal', 'odium', 'often', 'ogled', 'ogles', 'ogres', 'oiled', 'oinks', 'okays', 'okras', 'olden', 'older', 'oldie', 'olive', 'omega', 'omens', 'omits', 'onset', 'opals', 'opens', 'opera', 'opine', 'opium', 'opted', 'optic', 'orals', 'orate', 'orbit', 'organ', 'osier', 'other', 'ought', 'ounce', 'outed', 'outer', 'ovals', 'ovary', 'ovens', 'overs', 'overt', 'ovule', 'owing', 'owlet', 'owned', 'owner', 'oxide', 'paced', 'paces', 'packs', 'pacts', 'padre', 'paged', 'pager', 'pages', 'pails', 'pains', 'paint', 'pairs', 'paled', 'paler', 'pales', 'palms', 'palmy', 'palsy', 'panel', 'panes', 'pangs', 'panic', 'pansy', 'pants', 'panty', 'parch', 'pared', 'pares', 'parks', 'parse', 'parts', 'party', 'paste', 'pasty', 'patch', 'pates', 'paths', 'patio', 'patsy', 'pause', 'paved', 'paves', 'pawed', 'pawls', 'pawns', 'payed', 'payer', 'peach', 'peaks', 'peals', 'pearl', 'pears', 'pecan', 'pecks', 'pedal', 'pelts', 'penal', 'pends', 'penis', 'peons', 'peony', 'perch', 'peril', 'perks', 'perky', 'perms', 'pesky', 'petal', 'phase', 'phial', 'phlox', 'phone', 'phony', 'phyla', 'piano', 'picks', 'picky', 'piers', 'piety', 'pigmy', 'piked', 'piker', 'pikes', 'pilaf', 'pilau', 'pilaw', 'piled', 'piles', 'pilot', 'pinch', 'pined', 'pines', 'pings', 'pinks', 'pinky', 'pinto', 'pints', 'pious', 'pique', 'pitch', 'pithy', 'piton', 'pivot', 'pixel', 'place', 'plaid', 'plain', 'plait', 'plane', 'plank', 'plans', 'plant', 'plate', 'plays', 'plead', 'pleas', 'pleat', 'plied', 'plies', 'plods', 'plots', 'plows', 'ploys', 'pluck', 'plugs', 'plumb', 'plume', 'plums', 'plunk', 'plush', 'poach', 'pocks', 'podia', 'poems', 'poesy', 'poets', 'point', 'poise', 'poked', 'poker', 'pokes', 'pokey', 'polar', 'poled', 'poles', 'polka', 'ponds', 'pones', 'porch', 'pored', 'pores', 'ports', 'posed', 'poser', 'posit', 'pouch', 'pound', 'pours', 'pouts', 'power', 'poxes', 'prank', 'prate', 'prawn', 'prays', 'preys', 'price', 'prick', 'pricy', 'pride', 'pried', 'pries', 'prigs', 'prime', 'print', 'prism', 'privy', 'prize', 'probe', 'prods', 'profs', 'proms', 'prone', 'prong', 'prose', 'prosy', 'proud', 'prove', 'prowl', 'prows', 'proxy', 'prude', 'prune', 'psalm', 'pshaw', 'psych', 'pubic', 'pucks', 'pudgy', 'puked', 'pukes', 'pulse', 'pumas', 'punch', 'punks', 'punts', 'purge', 'purls', 'purse', 'pushy', 'pylon', 'pyres', 'pyxes', 'quack', 'quads', 'quail', 'quake', 'qualm', 'quark', 'quart', 'quash', 'quasi', 'quays', 'query', 'quest', 'quick', 'quids', 'quiet', 'quilt', 'quips', 'quire', 'quirk', 'quite', 'quits', 'quoit', 'quota', 'quote', 'quoth', 'rabid', 'raced', 'races', 'racks', 'radio', 'radon', 'rafts', 'raged', 'rages', 'raids', 'rails', 'rains', 'rainy', 'raise', 'raked', 'rakes', 'ramps', 'ranch', 'randy', 'range', 'rangy', 'ranks', 'rants', 'raped', 'rapes', 'rapid', 'raspy', 'rated', 'rates', 'ratio', 'raved', 'ravel', 'raven', 'raves', 'rayon', 'razed', 'razes', 'reach', 'react', 'reads', 'ready', 'realm', 'reals', 'reams', 'reaps', 'rebus', 'rebut', 'recap', 'recta', 'refit', 'regal', 'rehab', 'reign', 'reins', 'relax', 'relay', 'relic', 'remit', 'renal', 'rends', 'rents', 'repay', 'reply', 'resin', 'retch', 'rheas', 'rheum', 'rhino', 'rhyme', 'riced', 'rices', 'ricks', 'rides', 'ridge', 'rifle', 'rifts', 'right', 'riled', 'riles', 'rimed', 'rimes', 'rinds', 'rings', 'rinks', 'rinse', 'riots', 'ripen', 'risen', 'risky', 'rites', 'ritzy', 'rival', 'riven', 'rivet', 'roach', 'roads', 'roams', 'roans', 'roast', 'robed', 'robes', 'robin', 'rocks', 'rocky', 'rogue', 'roils', 'roles', 'roman', 'romps', 'roped', 'ropes', 'rosin', 'rouge', 'rough', 'round', 'rouse', 'route', 'routs', 'roved', 'roves', 'rowdy', 'rowed', 'rowel', 'royal', 'rubes', 'ruble', 'rugby', 'ruing', 'ruins', 'ruled', 'rules', 'rumba', 'rumps', 'runes', 'rungs', 'runts', 'rusty', 'saber', 'sable', 'sabre', 'sadly', 'safer', 'sager', 'sahib', 'saint', 'saith', 'salon', 'salty', 'salve', 'salvo', 'sandy', 'saner', 'sated', 'satin', 'satyr', 'sauce', 'saucy', 'saved', 'saver', 'savor', 'sawed', 'scald', 'scale', 'scalp', 'scaly', 'scamp', 'scant', 'scare', 'scarf', 'scary', 'scent', 'schwa', 'scion', 'scold', 'scone', 'scope', 'score', 'scorn', 'scour', 'scout', 'scowl', 'scram', 'scrap', 'screw', 'scrip', 'scrod', 'scrub', 'scuba', 'scurf', 'seamy', 'sedan', 'sepal', 'sepia', 'septa', 'serum', 'servo', 'setup', 'shack', 'shade', 'shady', 'shaft', 'shake', 'shaky', 'shale', 'shalt', 'shame', 'shank', 'shape', 'shard', 'share', 'shark', 'sharp', 'shave', 'shawl', 'sheaf', 'shear', 'sheik', 'shelf', 'sherd', 'shied', 'shift', 'shine', 'shiny', 'shire', 'shirk', 'shirt', 'shlep', 'shoal', 'shock', 'shoed', 'shone', 'shore', 'shorn', 'short', 'shout', 'shove', 'shown', 'showy', 'shred', 'shrew', 'shrub', 'shrug', 'shtik', 'shuck', 'shunt', 'shyer', 'sibyl', 'sidle', 'sight', 'sigma', 'silky', 'since', 'sinew', 'singe', 'sired', 'siren', 'sirup', 'sitar', 'sited', 'sixth', 'sixty', 'sized', 'sizer', 'skate', 'skein', 'skied', 'skier', 'skimp', 'skirt', 'skyed', 'slack', 'slain', 'slake', 'slang', 'slant', 'slate', 'slave', 'slept', 'slice', 'slick', 'slide', 'slier', 'slime', 'slimy', 'sling', 'slink', 'slope', 'sloth', 'slued', 'slump', 'slung', 'slunk', 'slurp', 'slyer', 'smack', 'smart', 'smear', 'smelt', 'smile', 'smirk', 'smite', 'smith', 'smock', 'smoke', 'smoky', 'smote', 'snack', 'snafu', 'snail', 'snake', 'snaky', 'snare', 'snarl', 'sneak', 'snide', 'snipe', 'snore', 'snort', 'snout', 'snowy', 'snuck', 'soapy', 'sober', 'softy', 'solar', 'soled', 'solid', 'solve', 'sonar', 'sonic', 'sorta', 'sough', 'sound', 'soupy', 'south', 'sowed', 'sower', 'space', 'spacy', 'spade', 'spake', 'spank', 'spare', 'spark', 'spate', 'spawn', 'speak', 'spear', 'speck', 'spelt', 'spend', 'spent', 'sperm', 'spice', 'spicy', 'spied', 'spiel', 'spike', 'spiky', 'spilt', 'spine', 'spiny', 'spire', 'spite', 'splat', 'splay', 'split', 'spoil', 'spoke', 'spore', 'sport', 'spout', 'sprat', 'spray', 'sprig', 'spume', 'spunk', 'spurn', 'spurt', 'squab', 'squad', 'squat', 'squaw', 'squid', 'stack', 'stage', 'staid', 'stain', 'stair', 'stake', 'stale', 'stalk', 'stamp', 'stand', 'stank', 'staph', 'stare', 'stark', 'stave', 'stead', 'steak', 'steal', 'steam', 'stein', 'stern', 'stick', 'stile', 'sting', 'stink', 'stock', 'stoic', 'stoke', 'stole', 'stomp', 'stone', 'stony', 'store', 'stork', 'storm', 'story', 'stove', 'strap', 'straw', 'stray', 'strep', 'strew', 'strip', 'strop', 'strum', 'stuck', 'study', 'stump', 'stung', 'stunk', 'style', 'styli', 'suave', 'sugar', 'suing', 'suite', 'sulky', 'sumac', 'super', 'surge', 'surly', 'swain', 'swami', 'swamp', 'swank', 'sward', 'swarm', 'swath', 'swear', 'sweat', 'swept', 'swift', 'swine', 'swing', 'swipe', 'swirl', 'sword', 'swore', 'sworn', 'swung', 'sylph', 'synch', 'synod', 'syrup', 'table', 'tabus', 'tacks', 'tacky', 'tacos', 'tails', 'taken', 'taker', 'takes', 'tales', 'talks', 'talon', 'tamed', 'tamer', 'tames', 'tamps', 'tango', 'tangs', 'tangy', 'tanks', 'tansy', 'taped', 'taper', 'tapes', 'tapir', 'tardy', 'tared', 'tares', 'taros', 'tarps', 'taupe', 'tawny', 'taxed', 'taxes', 'taxis', 'teach', 'teaks', 'teals', 'teams', 'tears', 'teary', 'techs', 'tempi', 'tempo', 'temps', 'tends', 'tenor', 'tepid', 'terms', 'terns', 'thank', 'thaws', 'their', 'thick', 'thief', 'thine', 'thing', 'think', 'thins', 'third', 'thong', 'thorn', 'those', 'thous', 'threw', 'throb', 'throe', 'throw', 'thrum', 'thuds', 'thugs', 'thumb', 'thump', 'thyme', 'thymi', 'ticks', 'tidal', 'tides', 'tiers', 'tiger', 'tikes', 'tilde', 'tiled', 'tiles', 'timed', 'timer', 'times', 'tines', 'tinge', 'tings', 'tipsy', 'tired', 'tires', 'tiros', 'toads', 'toady', 'today', 'togae', 'togas', 'toils', 'toked', 'token', 'tokes', 'tombs', 'tomes', 'tonal', 'toned', 'toner', 'tones', 'tongs', 'tonic', 'topaz', 'topic', 'toque', 'torch', 'torsi', 'torus', 'touch', 'tough', 'tours', 'towed', 'towel', 'tower', 'towns', 'toxic', 'toxin', 'toyed', 'trace', 'track', 'trade', 'trail', 'train', 'tramp', 'trams', 'traps', 'trash', 'trawl', 'trays', 'tread', 'treks', 'trend', 'triad', 'trial', 'tribe', 'trice', 'trick', 'tried', 'tries', 'trike', 'trims', 'trios', 'tripe', 'trips', 'tromp', 'trope', 'troys', 'truce', 'truck', 'trued', 'trues', 'truly', 'trump', 'trunk', 'tubas', 'tubed', 'tuber', 'tubes', 'tucks', 'tulip', 'tumid', 'tumor', 'tunas', 'tuned', 'tuner', 'tunes', 'tunic', 'turds', 'turfs', 'turns', 'tuxes', 'twain', 'twang', 'tweak', 'twerp', 'twice', 'twigs', 'twine', 'twins', 'twirl', 'tying', 'tykes', 'typed', 'types', 'typos', 'tyros', 'tzars', 'ulcer', 'ulnae', 'ulnas', 'ultra', 'umbel', 'umber', 'umiak', 'umped', 'unbar', 'uncle', 'under', 'unfit', 'unify', 'unite', 'units', 'unity', 'unsay', 'unset', 'untie', 'until', 'unwed', 'unzip', 'upend', 'upset', 'urban', 'urged', 'urges', 'urine', 'usage', 'usher', 'using', 'uteri', 'vague', 'vales', 'valet', 'valid', 'valor', 'value', 'vamps', 'vanes', 'vapid', 'vapor', 'vault', 'vaunt', 'vegan', 'veils', 'veins', 'velds', 'veldt', 'venal', 'vends', 'venom', 'vents', 'verbs', 'vetch', 'vials', 'viand', 'vibes', 'vicar', 'viced', 'vices', 'video', 'views', 'vigor', 'viler', 'vines', 'vinyl', 'viola', 'viols', 'viper', 'viral', 'vireo', 'virus', 'vised', 'visor', 'vista', 'vital', 'vixen', 'vizor', 'vocal', 'vodka', 'vogue', 'voice', 'voids', 'voile', 'voles', 'volts', 'vomit', 'voted', 'voter', 'votes', 'vouch', 'vowed', 'vowel', 'vying', 'wacko', 'wacky', 'wader', 'wades', 'wadis', 'wafer', 'wafts', 'waged', 'wager', 'wages', 'wagon', 'waifs', 'wails', 'waist', 'waits', 'waive', 'waked', 'waken', 'wakes', 'waled', 'wales', 'walks', 'waltz', 'wands', 'waned', 'wanes', 'wanly', 'wants', 'wards', 'wares', 'warms', 'warns', 'warps', 'warts', 'warty', 'waste', 'watch', 'water', 'waved', 'waver', 'waves', 'waxed', 'waxen', 'waxes', 'weals', 'weans', 'wears', 'weary', 'wefts', 'weigh', 'weird', 'weirs', 'welch', 'welds', 'welsh', 'welts', 'wench', 'wends', 'wetly', 'whack', 'whale', 'whams', 'wharf', 'whats', 'wheal', 'wheat', 'whelk', 'whelp', 'whens', 'whets', 'while', 'whims', 'whine', 'whiny', 'whips', 'whirl', 'whirs', 'whisk', 'whist', 'white', 'whits', 'whole', 'whore', 'whorl', 'whose', 'wicks', 'widen', 'wider', 'width', 'wield', 'wight', 'wilds', 'wiled', 'wiles', 'wilts', 'wimps', 'wimpy', 'wince', 'winch', 'winds', 'windy', 'wined', 'wines', 'wings', 'winks', 'winos', 'wiped', 'wiper', 'wipes', 'wired', 'wires', 'wiser', 'wispy', 'witch', 'wives', 'wizes', 'woken', 'wolfs', 'woman', 'wombs', 'women', 'words', 'wordy', 'works', 'world', 'worms', 'wormy', 'worse', 'worst', 'worth', 'would', 'wound', 'woven', 'wrack', 'wraps', 'wrapt', 'wrath', 'wreak', 'wreck', 'wrens', 'wrest', 'wring', 'wrist', 'write', 'writs', 'wrong', 'wrote', 'wroth', 'wrung', 'xylem', 'yacht', 'yacks', 'yanks', 'yards', 'yarns', 'yawed', 'yawls', 'yawns', 'yeahs', 'yearn', 'years', 'yeast', 'yelps', 'yield', 'yocks', 'yodel', 'yogin', 'yogis', 'yoked', 'yokel', 'yokes', 'yolks', 'young', 'yours', 'youth', 'yowls', 'yucks', 'zebra', 'zebus', 'zeros', 'zilch', 'zincs', 'zings', 'zombi', 'zonal', 'zoned', 'zones']\n"
     ]
    }
   ],
   "source": [
    "second_word = sorted(ciphered.split(), key=len, reverse=True)[1]\n",
    "mask_needed1 = mask(second_word)\n",
    "word_needed1 = []\n",
    "for word in eng_words[0]:\n",
    "    if (len(word)) == (len(mask_needed1)) and (mask(word) == mask_needed1):\n",
    "        word_needed1.append(word)\n",
    "print(word_needed1)"
   ]
  },
  {
   "cell_type": "code",
   "execution_count": 268,
   "metadata": {
    "collapsed": false
   },
   "outputs": [
    {
     "name": "stdout",
     "output_type": "stream",
     "text": [
      "ABCCBDEFGCHEIA\n"
     ]
    }
   ],
   "source": [
    "mask_collocation_needed = mask(first_word + second_word)\n",
    "print(mask_collocation_needed)"
   ]
  },
  {
   "cell_type": "code",
   "execution_count": 269,
   "metadata": {
    "collapsed": false
   },
   "outputs": [
    {
     "name": "stdout",
     "output_type": "stream",
     "text": [
      "difficult found\n",
      "dissipate scald\n",
      "dissipate shard\n",
      "dissipate sward\n",
      "gutturals twang\n",
      "massacred strum\n",
      "missilery steam\n",
      "sorrowful rafts\n",
      "sorrowful rifts\n",
      "sorrowing raids\n",
      "sorrowing rails\n",
      "succulent chefs\n",
      "succulent chews\n",
      "succulent coeds\n",
      "succulent crews\n",
      "suppurate plans\n",
      "suppurate plays\n"
     ]
    }
   ],
   "source": [
    "mask_collocation_needed = mask(first_word + second_word)\n",
    "collocation_needed = []\n",
    "for first in word_needed0:\n",
    "    for second in word_needed1:\n",
    "        if mask_collocation_needed == mask(first + second):\n",
    "            print(first, second)\n",
    "            collocation_needed.append(first+' '+second)"
   ]
  },
  {
   "cell_type": "code",
   "execution_count": 277,
   "metadata": {
    "collapsed": false
   },
   "outputs": [
    {
     "name": "stdout",
     "output_type": "stream",
     "text": [
      "['difficult found', 'dissipate scald', 'dissipate shard', 'dissipate sward', 'gutturals twang', 'massacred strum', 'missilery steam', 'sorrowful rafts', 'sorrowful rifts', 'sorrowing raids', 'sorrowing rails', 'succulent chefs', 'succulent chews', 'succulent coeds', 'succulent crews', 'suppurate plans', 'suppurate plays']\n"
     ]
    }
   ],
   "source": [
    "print(collocation_needed)"
   ]
  },
  {
   "cell_type": "markdown",
   "metadata": {},
   "source": [
    "Окей, неплохо, берем третье слово"
   ]
  },
  {
   "cell_type": "code",
   "execution_count": 278,
   "metadata": {
    "collapsed": false
   },
   "outputs": [
    {
     "name": "stdout",
     "output_type": "stream",
     "text": [
      "['abed', 'abet', 'able', 'ably', 'abut', 'aced', 'aces', 'ache', 'achy', 'acid', 'acme', 'acne', 'acre', 'acts', 'adze', 'aeon', 'aery', 'aged', 'ages', 'ague', 'ahem', 'ahoy', 'aide', 'aids', 'ails', 'aims', 'airs', 'airy', 'akin', 'albs', 'ales', 'alit', 'alms', 'aloe', 'also', 'alto', 'alum', 'amen', 'amid', 'amir', 'amok', 'amps', 'anew', 'ankh', 'ante', 'anti', 'ants', 'anus', 'aped', 'apes', 'apex', 'apse', 'arch', 'arcs', 'ares', 'arid', 'arks', 'arms', 'army', 'arts', 'arty', 'ashy', 'atom', 'atop', 'auks', 'aunt', 'auto', 'aver', 'avid', 'avow', 'awed', 'awes', 'awls', 'awol', 'awry', 'axed', 'axes', 'axis', 'axle', 'axon', 'ayes', 'back', 'bade', 'bags', 'bail', 'bait', 'bake', 'bald', 'bale', 'balk', 'balm', 'band', 'bane', 'bang', 'bani', 'bank', 'bans', 'bard', 'bare', 'barf', 'bark', 'barn', 'bars', 'base', 'bash', 'bask', 'bast', 'bate', 'bath', 'bats', 'baud', 'bawl', 'bays', 'bead', 'beak', 'beam', 'bean', 'bear', 'beat', 'beau', 'beck', 'beds', 'begs', 'belt', 'bend', 'bent', 'berg', 'berm', 'best', 'beta', 'bets', 'bevy', 'bias', 'bide', 'bids', 'bier', 'bike', 'bile', 'bilk', 'bind', 'bins', 'bird', 'bite', 'bits', 'blah', 'bled', 'blew', 'blip', 'bloc', 'blog', 'blot', 'blow', 'blue', 'blur', 'boar', 'boas', 'boat', 'bode', 'body', 'bogs', 'bogy', 'boil', 'bola', 'bold', 'bole', 'bolt', 'bond', 'bone', 'bong', 'bony', 'bops', 'bore', 'born', 'bosh', 'both', 'bout', 'bowl', 'bows', 'boys', 'brad', 'brag', 'bran', 'bras', 'brat', 'bray', 'bred', 'brew', 'brig', 'brim', 'brow', 'buck', 'buds', 'bugs', 'bulk', 'bump', 'bums', 'bung', 'bunk', 'buns', 'bunt', 'buoy', 'burg', 'burn', 'burp', 'burs', 'bury', 'bush', 'bust', 'busy', 'buts', 'buys', 'byes', 'byte', 'cabs', 'cads', 'cage', 'cagy', 'cake', 'calf', 'calk', 'calm', 'came', 'camp', 'cams', 'cane', 'cans', 'cant', 'cape', 'caps', 'card', 'care', 'carp', 'cars', 'cart', 'case', 'cash', 'cask', 'cast', 'cats', 'cave', 'caws', 'cent', 'chap', 'char', 'chat', 'chef', 'chew', 'chid', 'chin', 'chip', 'chit', 'chop', 'chow', 'chug', 'chum', 'cite', 'city', 'clad', 'clam', 'clan', 'clap', 'claw', 'clay', 'clef', 'clew', 'clip', 'clod', 'clog', 'clop', 'clot', 'cloy', 'club', 'clue', 'coal', 'coat', 'coax', 'cobs', 'coda', 'code', 'cods', 'coed', 'cogs', 'coif', 'coil', 'coin', 'coke', 'cola', 'cold', 'cols', 'colt', 'coma', 'comb', 'come', 'cone', 'conk', 'cons', 'cope', 'cops', 'copy', 'cord', 'core', 'cork', 'corm', 'corn', 'cost', 'cosy', 'cote', 'cots', 'coup', 'cove', 'cowl', 'cows', 'cozy', 'crab', 'crag', 'cram', 'crap', 'craw', 'crew', 'crib', 'crop', 'crow', 'crud', 'crux', 'cube', 'cubs', 'cuds', 'cued', 'cues', 'cult', 'cums', 'cunt', 'cups', 'curb', 'curd', 'cure', 'curl', 'curs', 'curt', 'cusp', 'cute', 'cuts', 'cyst', 'czar', 'dabs', 'daft', 'dais', 'dale', 'dame', 'damn', 'damp', 'dams', 'dank', 'dare', 'dark', 'darn', 'dart', 'dash', 'date', 'daub', 'dawn', 'days', 'daze', 'deaf', 'deal', 'dean', 'dear', 'debs', 'debt', 'deck', 'deft', 'defy', 'deli', 'demo', 'dens', 'dent', 'deny', 'desk', 'dewy', 'dial', 'dice', 'dick', 'dies', 'diet', 'digs', 'dike', 'dime', 'dims', 'dine', 'ding', 'dins', 'dint', 'dips', 'dire', 'dirk', 'dirt', 'disc', 'dish', 'disk', 'diva', 'dive', 'dock', 'docs', 'doer', 'does', 'dogs', 'dole', 'dolt', 'dome', 'done', 'dons', 'dope', 'dopy', 'dork', 'dorm', 'dory', 'dose', 'dote', 'doth', 'dots', 'dour', 'dove', 'down', 'doze', 'drab', 'drag', 'dram', 'draw', 'dray', 'drew', 'drip', 'drop', 'drub', 'drug', 'drum', 'drys', 'dual', 'dubs', 'duck', 'duct', 'duel', 'dues', 'duet', 'duke', 'duly', 'dumb', 'dump', 'dune', 'dung', 'dunk', 'duns', 'duos', 'dupe', 'dusk', 'dust', 'duty', 'dyer', 'dyes', 'dyke', 'each', 'earl', 'earn', 'ears', 'east', 'easy', 'eats', 'echo', 'ecru', 'edgy', 'edit', 'egis', 'egos', 'elks', 'elms', 'emir', 'emit', 'emus', 'ends', 'envy', 'eons', 'epic', 'eras', 'ergo', 'ergs', 'espy', 'etch', 'euro', 'evil', 'exam', 'exit', 'expo', 'face', 'fact', 'fade', 'fads', 'fags', 'fail', 'fain', 'fair', 'fake', 'fame', 'fang', 'fans', 'fare', 'farm', 'fart', 'fast', 'fate', 'fats', 'faun', 'fawn', 'faze', 'fear', 'feat', 'feds', 'felt', 'fend', 'fens', 'fern', 'fest', 'feta', 'feud', 'fiat', 'fibs', 'figs', 'file', 'film', 'find', 'fine', 'fink', 'fins', 'fire', 'firm', 'firs', 'fish', 'fist', 'fits', 'five', 'flab', 'flag', 'flak', 'flan', 'flap', 'flat', 'flaw', 'flax', 'flay', 'flea', 'fled', 'flew', 'flex', 'flip', 'flit', 'floe', 'flog', 'flop', 'flow', 'flub', 'flue', 'flux', 'foal', 'foam', 'fobs', 'foci', 'foes', 'fogs', 'fogy', 'foil', 'fold', 'folk', 'fond', 'font', 'fops', 'fora', 'ford', 'fore', 'fork', 'form', 'fort', 'foul', 'four', 'fowl', 'foxy', 'frat', 'fray', 'fret', 'frog', 'from', 'fuck', 'fuel', 'fume', 'fund', 'funk', 'furl', 'furs', 'fury', 'fuse', 'futz', 'fuze', 'gabs', 'gads', 'gain', 'gait', 'gale', 'gals', 'game', 'gamy', 'gape', 'gaps', 'garb', 'gash', 'gasp', 'gate', 'gave', 'gawk', 'gays', 'gaze', 'gear', 'geld', 'gels', 'gelt', 'gems', 'gent', 'germ', 'gets', 'gibe', 'gift', 'gild', 'gilt', 'gins', 'gird', 'girl', 'girt', 'gist', 'give', 'glad', 'glen', 'glib', 'glob', 'glop', 'glow', 'glue', 'glum', 'glut', 'gnat', 'gnaw', 'gnus', 'goad', 'goal', 'goat', 'gobs', 'gods', 'goes', 'gold', 'golf', 'gone', 'gore', 'gory', 'gosh', 'gout', 'gown', 'grab', 'grad', 'gram', 'gray', 'grew', 'grey', 'grid', 'grim', 'grin', 'grip', 'grit', 'grow', 'grub', 'gulf', 'gulp', 'gums', 'gunk', 'guns', 'gush', 'gust', 'guts', 'guys', 'gybe', 'gyms', 'gyps', 'gyro', 'hack', 'haft', 'hags', 'hail', 'hair', 'hake', 'hale', 'half', 'halo', 'halt', 'hams', 'hand', 'hang', 'hank', 'hard', 'hare', 'hark', 'harm', 'harp', 'hart', 'hasp', 'hate', 'hats', 'haul', 'have', 'hawk', 'haws', 'hays', 'haze', 'hazy', 'head', 'heal', 'heap', 'hear', 'heat', 'heck', 'heft', 'heir', 'held', 'helm', 'help', 'hemp', 'hems', 'hens', 'herb', 'herd', 'hero', 'hers', 'hewn', 'hews', 'hick', 'hide', 'hied', 'hies', 'hike', 'hilt', 'hims', 'hind', 'hint', 'hips', 'hire', 'hits', 'hive', 'hoax', 'hobs', 'hock', 'hods', 'hoed', 'hoes', 'hogs', 'hold', 'hole', 'holy', 'home', 'homy', 'hone', 'honk', 'hope', 'hops', 'horn', 'hose', 'host', 'hour', 'hove', 'howl', 'hows', 'hubs', 'hued', 'hues', 'huge', 'hugs', 'hula', 'hulk', 'hump', 'hums', 'hung', 'hunk', 'hunt', 'hurl', 'hurt', 'husk', 'huts', 'hymn', 'hype', 'hypo', 'iamb', 'ibex', 'iced', 'ices', 'icky', 'icon', 'idea', 'ides', 'idle', 'idly', 'idol', 'idyl', 'ikon', 'ilks', 'imps', 'inch', 'info', 'inks', 'inky', 'into', 'ions', 'iota', 'irks', 'iron', 'isle', 'itch', 'item', 'jabs', 'jack', 'jade', 'jags', 'jail', 'jamb', 'jams', 'jape', 'jars', 'jaws', 'jays', 'jerk', 'jest', 'jets', 'jibe', 'jibs', 'jigs', 'jilt', 'jinx', 'jive', 'jobs', 'jock', 'jogs', 'john', 'join', 'joke', 'jolt', 'josh', 'jots', 'jowl', 'joys', 'judo', 'jugs', 'jump', 'junk', 'jury', 'just', 'jute', 'juts', 'kale', 'kegs', 'kelp', 'kens', 'kept', 'keys', 'khan', 'kids', 'kiln', 'kilo', 'kilt', 'kind', 'king', 'kite', 'kith', 'kits', 'knew', 'knit', 'knob', 'knot', 'know', 'labs', 'lace', 'lack', 'lacy', 'lade', 'lads', 'lady', 'lags', 'laid', 'lain', 'lair', 'lake', 'lamb', 'lame', 'lamp', 'lams', 'land', 'lane', 'lank', 'laps', 'lard', 'lark', 'lash', 'last', 'late', 'lath', 'lats', 'laud', 'lawn', 'laws', 'lays', 'laze', 'lazy', 'lead', 'leaf', 'leak', 'lean', 'leap', 'leas', 'left', 'legs', 'leis', 'lend', 'lens', 'lent', 'lept', 'lest', 'lets', 'levy', 'lewd', 'liar', 'lice', 'lick', 'lids', 'lied', 'lief', 'lien', 'lies', 'lieu', 'life', 'lift', 'like', 'limb', 'lime', 'limn', 'limo', 'limp', 'limy', 'line', 'link', 'lint', 'lion', 'lips', 'lira', 'lire', 'lisp', 'list', 'lite', 'live', 'load', 'loaf', 'loam', 'loan', 'lobe', 'lobs', 'loci', 'lock', 'lode', 'loft', 'loge', 'logs', 'loin', 'lone', 'long', 'lope', 'lops', 'lord', 'lore', 'lorn', 'lose', 'lost', 'loth', 'lots', 'loud', 'lout', 'love', 'lows', 'lube', 'luck', 'lugs', 'lump', 'lung', 'lure', 'lurk', 'lush', 'lust', 'lute', 'lynx', 'lyre', 'mace', 'made', 'mads', 'maid', 'mail', 'main', 'make', 'male', 'malt', 'mane', 'mans', 'many', 'maps', 'mare', 'mark', 'mars', 'mart', 'mash', 'mask', 'mast', 'mate', 'math', 'mats', 'maul', 'maws', 'mayo', 'maze', 'mead', 'meal', 'mean', 'meat', 'megs', 'meld', 'melt', 'mend', 'menu', 'meow', 'mesa', 'mesh', 'mewl', 'mews', 'mica', 'mice', 'mien', 'mike', 'mild', 'mile', 'milk', 'mils', 'mind', 'mine', 'mink', 'mint', 'minx', 'mire', 'mist', 'mite', 'moan', 'moat', 'mobs', 'mock', 'mode', 'mods', 'mold', 'mole', 'molt', 'monk', 'mope', 'mops', 'more', 'morn', 'most', 'mote', 'moth', 'move', 'mown', 'mows', 'much', 'muck', 'mugs', 'mule', 'murk', 'muse', 'mush', 'musk', 'must', 'mute', 'myna', 'myth', 'nabs', 'nags', 'nail', 'name', 'nape', 'naps', 'narc', 'nark', 'nary', 'nave', 'navy', 'nays', 'near', 'neat', 'neck', 'nerd', 'nest', 'nets', 'news', 'newt', 'next', 'nibs', 'nice', 'nick', 'nigh', 'nips', 'nite', 'nits', 'node', 'nods', 'noel', 'noes', 'nope', 'norm', 'nose', 'nosh', 'nosy', 'note', 'nous', 'nova', 'nubs', 'nude', 'nuke', 'numb', 'nuts', 'oafs', 'oaks', 'oars', 'oath', 'oats', 'obey', 'obit', 'odes', 'ogle', 'ogre', 'ohms', 'oils', 'oily', 'oink', 'okay', 'okra', 'omen', 'omit', 'once', 'ones', 'only', 'onus', 'onyx', 'opal', 'open', 'opts', 'opus', 'oral', 'orbs', 'ores', 'orgy', 'ouch', 'ours', 'oust', 'outs', 'oval', 'oven', 'over', 'ovum', 'owed', 'owes', 'owls', 'owns', 'oxen', 'pace', 'pack', 'pact', 'pads', 'page', 'paid', 'pail', 'pain', 'pair', 'pale', 'palm', 'pals', 'pane', 'pang', 'pans', 'pant', 'pare', 'park', 'pars', 'part', 'past', 'pate', 'path', 'pats', 'pave', 'pawl', 'pawn', 'paws', 'pays', 'peak', 'peal', 'pear', 'peas', 'peat', 'peck', 'pegs', 'pelt', 'pens', 'pent', 'peon', 'perk', 'perm', 'pert', 'peso', 'pest', 'pets', 'pews', 'pica', 'pick', 'pied', 'pier', 'pies', 'pigs', 'pike', 'pile', 'pine', 'ping', 'pink', 'pins', 'pint', 'pita', 'pith', 'pits', 'pity', 'pixy', 'plan', 'play', 'plea', 'pled', 'plod', 'plot', 'plow', 'ploy', 'plug', 'plum', 'plus', 'pock', 'pods', 'poem', 'poet', 'poke', 'poky', 'pole', 'pols', 'pond', 'pone', 'pony', 'pore', 'pork', 'porn', 'port', 'pose', 'posh', 'post', 'posy', 'pots', 'pour', 'pout', 'pram', 'pray', 'prey', 'prig', 'prim', 'prod', 'prof', 'prom', 'pros', 'prow', 'pubs', 'puck', 'pugs', 'puke', 'puma', 'punk', 'puns', 'punt', 'puny', 'pure', 'purl', 'push', 'puts', 'pyre', 'quad', 'quay', 'quid', 'quip', 'quit', 'quiz', 'race', 'rack', 'racy', 'raft', 'rage', 'rags', 'raid', 'rail', 'rain', 'rake', 'ramp', 'rams', 'rang', 'rank', 'rant', 'rape', 'raps', 'rapt', 'rash', 'rasp', 'rate', 'rats', 'rave', 'rays', 'raze', 'read', 'real', 'ream', 'reap', 'redo', 'reds', 'refs', 'rein', 'reis', 'rely', 'rend', 'rent', 'reps', 'rest', 'revs', 'rhea', 'ribs', 'rice', 'rich', 'rick', 'ride', 'rids', 'rife', 'rift', 'rigs', 'rile', 'rime', 'rims', 'rind', 'ring', 'rink', 'riot', 'ripe', 'rips', 'rise', 'risk', 'rite', 'road', 'roam', 'roan', 'robe', 'robs', 'rock', 'rode', 'rods', 'roes', 'roil', 'role', 'romp', 'rope', 'rose', 'rosy', 'rote', 'rots', 'rout', 'rove', 'rows', 'rube', 'rubs', 'ruby', 'rude', 'rued', 'rues', 'rugs', 'ruin', 'rule', 'rump', 'rums', 'rune', 'rung', 'runs', 'runt', 'ruse', 'rush', 'rusk', 'rust', 'ruts', 'sack', 'safe', 'sage', 'sago', 'said', 'sail', 'sake', 'saki', 'sale', 'salt', 'same', 'sand', 'sane', 'sang', 'sank', 'sari', 'sate', 'save', 'sawn', 'scab', 'scad', 'scam', 'scan', 'scar', 'scat', 'scow', 'scud', 'scum', 'seal', 'seam', 'sear', 'seat', 'sect', 'self', 'semi', 'send', 'sent', 'sera', 'serf', 'sewn', 'sexy', 'shad', 'shag', 'sham', 'shat', 'shed', 'shim', 'shin', 'ship', 'shit', 'shod', 'shoe', 'shop', 'shot', 'show', 'shun', 'shut', 'sick', 'side', 'sift', 'sigh', 'sign', 'silk', 'silo', 'silt', 'sine', 'sing', 'sink', 'sire', 'site', 'size', 'skew', 'skid', 'skim', 'skin', 'skip', 'skit', 'slab', 'slag', 'slam', 'slap', 'slat', 'slaw', 'slay', 'sled', 'slew', 'slid', 'slim', 'slip', 'slit', 'slob', 'sloe', 'slog', 'slop', 'slot', 'slow', 'slue', 'slug', 'slum', 'slur', 'slut', 'smit', 'smog', 'smug', 'smut', 'snag', 'snap', 'snip', 'snit', 'snob', 'snot', 'snow', 'snub', 'snug', 'soak', 'soap', 'soar', 'sock', 'soda', 'sofa', 'soft', 'soil', 'sold', 'sole', 'soli', 'some', 'song', 'sore', 'sort', 'soul', 'soup', 'sour', 'sown', 'soya', 'span', 'spar', 'spat', 'spay', 'spec', 'sped', 'spew', 'spin', 'spit', 'spot', 'spry', 'spud', 'spun', 'spur', 'stab', 'stag', 'star', 'stay', 'stem', 'step', 'stew', 'stir', 'stop', 'stow', 'stub', 'stud', 'stun', 'stye', 'such', 'suck', 'sued', 'suet', 'suit', 'sulk', 'sumo', 'sump', 'sung', 'sunk', 'sure', 'surf', 'swab', 'swag', 'swam', 'swan', 'swap', 'swat', 'sway', 'swig', 'swim', 'swop', 'swum', 'sync', 'tabs', 'tabu', 'tack', 'taco', 'tads', 'tags', 'tail', 'take', 'talc', 'tale', 'talk', 'tame', 'tamp', 'tams', 'tang', 'tank', 'tans', 'tape', 'taps', 'tare', 'taro', 'tarp', 'tars', 'task', 'taxi', 'teak', 'teal', 'team', 'tear', 'teas', 'temp', 'tend', 'tens', 'term', 'tern', 'than', 'thaw', 'them', 'then', 'they', 'thin', 'this', 'thou', 'thru', 'thud', 'thug', 'thus', 'tick', 'tics', 'tide', 'tidy', 'tied', 'tier', 'ties', 'tike', 'tile', 'time', 'tine', 'ting', 'tins', 'tiny', 'tips', 'tire', 'tiro', 'toad', 'toed', 'toes', 'tofu', 'toga', 'togs', 'toil', 'toke', 'told', 'tomb', 'tome', 'toms', 'tone', 'tong', 'tons', 'tony', 'tops', 'tore', 'torn', 'tors', 'tour', 'town', 'tows', 'toys', 'tram', 'trap', 'tray', 'trek', 'trig', 'trim', 'trio', 'trip', 'trod', 'troy', 'true', 'tsar', 'tuba', 'tube', 'tubs', 'tuck', 'tugs', 'tuna', 'tune', 'tuns', 'turd', 'turf', 'turn', 'tush', 'tusk', 'twig', 'twin', 'twos', 'tyke', 'type', 'typo', 'tyro', 'tzar', 'ugly', 'ulna', 'umps', 'undo', 'unit', 'unto', 'upon', 'urea', 'urge', 'uric', 'urns', 'used', 'user', 'vain', 'vale', 'vamp', 'vane', 'vans', 'vary', 'vase', 'vast', 'vats', 'veal', 'veil', 'vein', 'veld', 'vend', 'vent', 'verb', 'very', 'vest', 'veto', 'vets', 'vial', 'vibe', 'vice', 'vied', 'vies', 'view', 'vile', 'vine', 'viol', 'visa', 'vise', 'void', 'vole', 'volt', 'vote', 'vows', 'wade', 'wadi', 'wads', 'waft', 'wage', 'wags', 'waif', 'wail', 'wait', 'wake', 'wale', 'walk', 'wand', 'wane', 'want', 'ward', 'ware', 'warm', 'warn', 'warp', 'wars', 'wart', 'wary', 'wash', 'wasp', 'wave', 'wavy', 'waxy', 'ways', 'weak', 'weal', 'wean', 'wear', 'webs', 'weds', 'weft', 'weir', 'weld', 'welt', 'wend', 'wens', 'went', 'wept', 'west', 'wets', 'wham', 'what', 'when', 'whet', 'whey', 'whim', 'whip', 'whir', 'whit', 'whiz', 'whoa', 'whom', 'whys', 'wick', 'wide', 'wife', 'wigs', 'wild', 'wile', 'wilt', 'wily', 'wimp', 'wind', 'wine', 'wing', 'wink', 'wino', 'wins', 'wipe', 'wire', 'wiry', 'wise', 'wish', 'wisp', 'wist', 'with', 'wits', 'wive', 'woes', 'woke', 'woks', 'wolf', 'womb', 'wont', 'word', 'wore', 'work', 'worm', 'worn', 'wove', 'wrap', 'wren', 'writ', 'yack', 'yaks', 'yams', 'yank', 'yaps', 'yard', 'yarn', 'yawl', 'yawn', 'yaws', 'yeah', 'year', 'yeas', 'yelp', 'yens', 'yeps', 'yest', 'yeti', 'yews', 'yips', 'yock', 'yoga', 'yogi', 'yoke', 'yolk', 'yore', 'your', 'yous', 'yowl', 'yuck', 'yuks', 'yule', 'yups', 'zany', 'zaps', 'zeal', 'zebu', 'zeds', 'zero', 'zest', 'zeta', 'zinc', 'zing', 'zips', 'zits', 'zone']\n"
     ]
    }
   ],
   "source": [
    "third_word = sorted(ciphered.split(), key=len, reverse=True)[2]\n",
    "mask_needed3 = mask(third_word)\n",
    "word_needed3 = []\n",
    "for word in eng_words[0]:\n",
    "    if (len(word)) == (len(mask_needed3)) and (mask(word) == mask_needed3):\n",
    "        word_needed3.append(word)\n",
    "print(word_needed3)"
   ]
  },
  {
   "cell_type": "code",
   "execution_count": 279,
   "metadata": {
    "collapsed": false,
    "scrolled": true
   },
   "outputs": [
    {
     "name": "stdout",
     "output_type": "stream",
     "text": [
      "['difficult found tale', 'difficult found talk', 'gutturals twang self', 'gutturals twang silk', 'gutturals twang silo', 'gutturals twang sold', 'gutturals twang sole', 'gutturals twang soli', 'sorrowful rifts laud', 'sorrowing raids gent', 'sorrowing raids gunk', 'sorrowing rails gent', 'sorrowing rails gunk', 'succulent chefs tang', 'succulent chefs tank', 'succulent chefs ting', 'succulent chefs tiny', 'succulent chefs tong', 'succulent chefs tony', 'succulent chews tang', 'succulent chews tank', 'succulent chews ting', 'succulent chews tiny', 'succulent chews tong', 'succulent chews tony', 'succulent coeds tang', 'succulent coeds tank', 'succulent coeds ting', 'succulent coeds tiny', 'succulent crews tang', 'succulent crews tank', 'succulent crews ting', 'succulent crews tiny', 'succulent crews tong', 'succulent crews tony']\n"
     ]
    }
   ],
   "source": [
    "collocation_needed3 = []\n",
    "mask_collocation_needed = mask(first_word + ' ' + second_word + ' ' + third_word)\n",
    "for firstsecond in collocation_needed:\n",
    "    for third in word_needed3:\n",
    "        if mask_collocation_needed == mask(firstsecond+' '+third):\n",
    "            collocation_needed3.append(firstsecond+' ' + third)\n",
    "print(collocation_needed3)"
   ]
  },
  {
   "cell_type": "markdown",
   "metadata": {},
   "source": [
    "ну лан, возьмем еще одно слово"
   ]
  },
  {
   "cell_type": "code",
   "execution_count": 280,
   "metadata": {
    "collapsed": true
   },
   "outputs": [],
   "source": [
    "fourth_word = sorted(ciphered.split(), key=len, reverse=True)[3]\n",
    "mask_needed4 = mask(fourth_word)\n",
    "word_needed4 = []\n",
    "for word in eng_words[0]:\n",
    "    if (len(word)) == (len(mask_needed4)) and (mask(word) == mask_needed4):\n",
    "        word_needed4.append(word)"
   ]
  },
  {
   "cell_type": "code",
   "execution_count": 281,
   "metadata": {
    "collapsed": false
   },
   "outputs": [
    {
     "data": {
      "text/plain": [
       "['ace', 'act', 'ado', 'ads', 'adz', 'aft', 'age', 'ago', 'aid', 'ail']"
      ]
     },
     "execution_count": 281,
     "metadata": {},
     "output_type": "execute_result"
    }
   ],
   "source": [
    "word_needed4[0:10]"
   ]
  },
  {
   "cell_type": "code",
   "execution_count": 282,
   "metadata": {
    "collapsed": false
   },
   "outputs": [
    {
     "name": "stdout",
     "output_type": "stream",
     "text": [
      "['difficult found tale gym', 'difficult found tale gyp', 'difficult found tale mys', 'difficult found tale pry', 'difficult found tale pyx', 'difficult found tale shy', 'difficult found tale sky', 'difficult found tale spy', 'difficult found tale why', 'difficult found tale wry', 'difficult found talk beg', 'difficult found talk bye', 'difficult found talk ems', 'difficult found talk erg', 'difficult found talk gem', 'difficult found talk gym', 'difficult found talk gyp', 'difficult found talk hem', 'difficult found talk hep', 'difficult found talk her', 'difficult found talk hes', 'difficult found talk hew', 'difficult found talk hex', 'difficult found talk hey', 'difficult found talk meg', 'difficult found talk mes', 'difficult found talk mew', 'difficult found talk mys', 'difficult found talk peg', 'difficult found talk per', 'difficult found talk pew', 'difficult found talk pry', 'difficult found talk pyx', 'difficult found talk rep', 'difficult found talk rev', 'difficult found talk rye', 'difficult found talk sew', 'difficult found talk sex', 'difficult found talk she', 'difficult found talk shy', 'difficult found talk spy', 'difficult found talk vex', 'difficult found talk web', 'difficult found talk why', 'difficult found talk wry', 'difficult found talk yep', 'difficult found talk yes', 'difficult found talk yew', 'gutturals twang self bid', 'gutturals twang self bop', 'gutturals twang self box', 'gutturals twang self boy', 'gutturals twang self chi', 'gutturals twang self cob', 'gutturals twang self cod', 'gutturals twang self cop', 'gutturals twang self cox', 'gutturals twang self coy', 'gutturals twang self dim', 'gutturals twang self dip', 'gutturals twang self doc', 'gutturals twang self hid', 'gutturals twang self him', 'gutturals twang self hip', 'gutturals twang self hob', 'gutturals twang self hod', 'gutturals twang self hop', 'gutturals twang self icy', 'gutturals twang self imp', 'gutturals twang self ivy', 'gutturals twang self jib', 'gutturals twang self job', 'gutturals twang self joy', 'gutturals twang self kid', 'gutturals twang self mid', 'gutturals twang self mix', 'gutturals twang self mob', 'gutturals twang self mod', 'gutturals twang self mop', 'gutturals twang self ohm', 'gutturals twang self pod', 'gutturals twang self poi', 'gutturals twang self pox', 'gutturals twang self pyx', 'gutturals twang self vim', 'gutturals twang self yip', 'gutturals twang self zip', 'gutturals twang silk bed', 'gutturals twang silk bop', 'gutturals twang silk box', 'gutturals twang silk boy', 'gutturals twang silk bye', 'gutturals twang silk cob', 'gutturals twang silk cod', 'gutturals twang silk cop', 'gutturals twang silk cox', 'gutturals twang silk coy', 'gutturals twang silk deb', 'gutturals twang silk doc', 'gutturals twang silk doe', 'gutturals twang silk dye', 'gutturals twang silk fed', 'gutturals twang silk fey', 'gutturals twang silk fez', 'gutturals twang silk fob', 'gutturals twang silk foe', 'gutturals twang silk fop', 'gutturals twang silk fox', 'gutturals twang silk hem', 'gutturals twang silk hep', 'gutturals twang silk hex', 'gutturals twang silk hey', 'gutturals twang silk hob', 'gutturals twang silk hod', 'gutturals twang silk hoe', 'gutturals twang silk hop', 'gutturals twang silk job', 'gutturals twang silk joy', 'gutturals twang silk mob', 'gutturals twang silk mod', 'gutturals twang silk mop', 'gutturals twang silk ode', 'gutturals twang silk ohm', 'gutturals twang silk pod', 'gutturals twang silk pox', 'gutturals twang silk pyx', 'gutturals twang silk vex', 'gutturals twang silk yep', 'gutturals twang silk zed', 'gutturals twang silo bed', 'gutturals twang silo bye', 'gutturals twang silo deb', 'gutturals twang silo dye', 'gutturals twang silo fed', 'gutturals twang silo fey', 'gutturals twang silo fez', 'gutturals twang silo hem', 'gutturals twang silo hep', 'gutturals twang silo hex', 'gutturals twang silo hey', 'gutturals twang silo key', 'gutturals twang silo pyx', 'gutturals twang silo vex', 'gutturals twang silo yep', 'gutturals twang silo zed', 'gutturals twang sold bye', 'gutturals twang sold chi', 'gutturals twang sold fey', 'gutturals twang sold fez', 'gutturals twang sold fib', 'gutturals twang sold fie', 'gutturals twang sold fix', 'gutturals twang sold hem', 'gutturals twang sold hep', 'gutturals twang sold hex', 'gutturals twang sold hey', 'gutturals twang sold hie', 'gutturals twang sold him', 'gutturals twang sold hip', 'gutturals twang sold ice', 'gutturals twang sold icy', 'gutturals twang sold imp', 'gutturals twang sold ivy', 'gutturals twang sold jib', 'gutturals twang sold key', 'gutturals twang sold mix', 'gutturals twang sold pie', 'gutturals twang sold pyx', 'gutturals twang sold vex', 'gutturals twang sold vie', 'gutturals twang sold vim', 'gutturals twang sold yep', 'gutturals twang sold yip', 'gutturals twang sold zip', 'gutturals twang sole bid', 'gutturals twang sole chi', 'gutturals twang sole dim', 'gutturals twang sole dip', 'gutturals twang sole fib', 'gutturals twang sole fix', 'gutturals twang sole hid', 'gutturals twang sole him', 'gutturals twang sole hip', 'gutturals twang sole icy', 'gutturals twang sole imp', 'gutturals twang sole ivy', 'gutturals twang sole jib', 'gutturals twang sole kid', 'gutturals twang sole mid', 'gutturals twang sole mix', 'gutturals twang sole pyx', 'gutturals twang sole vim', 'gutturals twang sole yip', 'gutturals twang sole zip', 'gutturals twang soli bed', 'gutturals twang soli bye', 'gutturals twang soli deb', 'gutturals twang soli dye', 'gutturals twang soli fed', 'gutturals twang soli fey', 'gutturals twang soli fez', 'gutturals twang soli hem', 'gutturals twang soli hep', 'gutturals twang soli hex', 'gutturals twang soli hey', 'gutturals twang soli key', 'gutturals twang soli pyx', 'gutturals twang soli vex', 'gutturals twang soli yep', 'gutturals twang soli zed', 'sorrowful rifts laud beg', 'sorrowful rifts laud bye', 'sorrowful rifts laud gem', 'sorrowful rifts laud gym', 'sorrowful rifts laud gyp', 'sorrowful rifts laud hem', 'sorrowful rifts laud hen', 'sorrowful rifts laud hep', 'sorrowful rifts laud hex', 'sorrowful rifts laud hey', 'sorrowful rifts laud keg', 'sorrowful rifts laud ken', 'sorrowful rifts laud key', 'sorrowful rifts laud meg', 'sorrowful rifts laud men', 'sorrowful rifts laud peg', 'sorrowful rifts laud pen', 'sorrowful rifts laud pyx', 'sorrowful rifts laud vex', 'sorrowful rifts laud yen', 'sorrowful rifts laud yep', 'sorrowing raids gent bum', 'sorrowing raids gent buy', 'sorrowing raids gent cub', 'sorrowing raids gent cup', 'sorrowing raids gent flu', 'sorrowing raids gent fly', 'sorrowing raids gent hub', 'sorrowing raids gent hum', 'sorrowing raids gent ply', 'sorrowing raids gent pub', 'sorrowing raids gent pyx', 'sorrowing raids gent ump', 'sorrowing raids gent yuk', 'sorrowing raids gent yum', 'sorrowing raids gent yup', 'sorrowing raids gunk bet', 'sorrowing raids gunk bye', 'sorrowing raids gunk elf', 'sorrowing raids gunk elm', 'sorrowing raids gunk fey', 'sorrowing raids gunk fez', 'sorrowing raids gunk fly', 'sorrowing raids gunk hem', 'sorrowing raids gunk hep', 'sorrowing raids gunk hex', 'sorrowing raids gunk hey', 'sorrowing raids gunk jet', 'sorrowing raids gunk let', 'sorrowing raids gunk lye', 'sorrowing raids gunk met', 'sorrowing raids gunk pet', 'sorrowing raids gunk ply', 'sorrowing raids gunk pyx', 'sorrowing raids gunk the', 'sorrowing raids gunk thy', 'sorrowing raids gunk vet', 'sorrowing raids gunk vex', 'sorrowing raids gunk yep', 'sorrowing raids gunk yet', 'sorrowing rails gent bud', 'sorrowing rails gent bum', 'sorrowing rails gent buy', 'sorrowing rails gent cub', 'sorrowing rails gent cud', 'sorrowing rails gent cup', 'sorrowing rails gent dub', 'sorrowing rails gent duh', 'sorrowing rails gent hub', 'sorrowing rails gent hum', 'sorrowing rails gent mud', 'sorrowing rails gent pub', 'sorrowing rails gent pyx', 'sorrowing rails gent ump', 'sorrowing rails gent yuk', 'sorrowing rails gent yum', 'sorrowing rails gent yup', 'sorrowing rails gunk bed', 'sorrowing rails gunk bet', 'sorrowing rails gunk bye', 'sorrowing rails gunk deb', 'sorrowing rails gunk dye', 'sorrowing rails gunk fed', 'sorrowing rails gunk fey', 'sorrowing rails gunk fez', 'sorrowing rails gunk hem', 'sorrowing rails gunk hep', 'sorrowing rails gunk hex', 'sorrowing rails gunk hey', 'sorrowing rails gunk jet', 'sorrowing rails gunk met', 'sorrowing rails gunk pet', 'sorrowing rails gunk pyx', 'sorrowing rails gunk the', 'sorrowing rails gunk thy', 'sorrowing rails gunk vet', 'sorrowing rails gunk vex', 'sorrowing rails gunk yep', 'sorrowing rails gunk yet', 'sorrowing rails gunk zed', 'succulent chefs tang bid', 'succulent chefs tang bop', 'succulent chefs tang bow', 'succulent chefs tang box', 'succulent chefs tang boy', 'succulent chefs tang dim', 'succulent chefs tang dip', 'succulent chefs tang dry', 'succulent chefs tang imp', 'succulent chefs tang irk', 'succulent chefs tang ivy', 'succulent chefs tang jib', 'succulent chefs tang job', 'succulent chefs tang joy', 'succulent chefs tang kid', 'succulent chefs tang mid', 'succulent chefs tang mix', 'succulent chefs tang mob', 'succulent chefs tang mod', 'succulent chefs tang mop', 'succulent chefs tang mow', 'succulent chefs tang orb', 'succulent chefs tang pod', 'succulent chefs tang poi', 'succulent chefs tang pox', 'succulent chefs tang pro', 'succulent chefs tang pry', 'succulent chefs tang pyx', 'succulent chefs tang rib', 'succulent chefs tang rid', 'succulent chefs tang rim', 'succulent chefs tang rip', 'succulent chefs tang rob', 'succulent chefs tang rod', 'succulent chefs tang row', 'succulent chefs tang vim', 'succulent chefs tang vow', 'succulent chefs tang wiz', 'succulent chefs tang wok', 'succulent chefs tang wry', 'succulent chefs tang yip', 'succulent chefs tang zip', 'succulent chefs tank bid', 'succulent chefs tank big', 'succulent chefs tank bog', 'succulent chefs tank bop', 'succulent chefs tank bow', 'succulent chefs tank box', 'succulent chefs tank boy', 'succulent chefs tank dig', 'succulent chefs tank dim', 'succulent chefs tank dip', 'succulent chefs tank dog', 'succulent chefs tank dry', 'succulent chefs tank gob', 'succulent chefs tank god', 'succulent chefs tank gym', 'succulent chefs tank gyp', 'succulent chefs tank imp', 'succulent chefs tank ivy', 'succulent chefs tank jib', 'succulent chefs tank jig', 'succulent chefs tank job', 'succulent chefs tank jog', 'succulent chefs tank joy', 'succulent chefs tank mid', 'succulent chefs tank mix', 'succulent chefs tank mob', 'succulent chefs tank mod', 'succulent chefs tank mop', 'succulent chefs tank mow', 'succulent chefs tank orb', 'succulent chefs tank pig', 'succulent chefs tank pod', 'succulent chefs tank poi', 'succulent chefs tank pox', 'succulent chefs tank pro', 'succulent chefs tank pry', 'succulent chefs tank pyx', 'succulent chefs tank rib', 'succulent chefs tank rid', 'succulent chefs tank rig', 'succulent chefs tank rim', 'succulent chefs tank rip', 'succulent chefs tank rob', 'succulent chefs tank rod', 'succulent chefs tank row', 'succulent chefs tank vim', 'succulent chefs tank vow', 'succulent chefs tank wig', 'succulent chefs tank wiz', 'succulent chefs tank wry', 'succulent chefs tank yip', 'succulent chefs tank zip', 'succulent chefs ting ado', 'succulent chefs ting adz', 'succulent chefs ting amp', 'succulent chefs ting ark', 'succulent chefs ting arm', 'succulent chefs ting bad', 'succulent chefs ting bar', 'succulent chefs ting bay', 'succulent chefs ting boa', 'succulent chefs ting bop', 'succulent chefs ting bow', 'succulent chefs ting box', 'succulent chefs ting boy', 'succulent chefs ting bra', 'succulent chefs ting dab', 'succulent chefs ting dam', 'succulent chefs ting day', 'succulent chefs ting dry', 'succulent chefs ting jab', 'succulent chefs ting jam', 'succulent chefs ting jar', 'succulent chefs ting jaw', 'succulent chefs ting jay', 'succulent chefs ting job', 'succulent chefs ting joy', 'succulent chefs ting mad', 'succulent chefs ting map', 'succulent chefs ting mar', 'succulent chefs ting maw', 'succulent chefs ting may', 'succulent chefs ting mob', 'succulent chefs ting mod', 'succulent chefs ting mop', 'succulent chefs ting mow', 'succulent chefs ting oak', 'succulent chefs ting oar', 'succulent chefs ting orb', 'succulent chefs ting ova', 'succulent chefs ting pad', 'succulent chefs ting par', 'succulent chefs ting paw', 'succulent chefs ting pay', 'succulent chefs ting pod', 'succulent chefs ting pox', 'succulent chefs ting pro', 'succulent chefs ting pry', 'succulent chefs ting pyx', 'succulent chefs ting ram', 'succulent chefs ting rap', 'succulent chefs ting raw', 'succulent chefs ting ray', 'succulent chefs ting rob', 'succulent chefs ting rod', 'succulent chefs ting row', 'succulent chefs ting vow', 'succulent chefs ting wad', 'succulent chefs ting war', 'succulent chefs ting wax', 'succulent chefs ting way', 'succulent chefs ting wok', 'succulent chefs ting wry', 'succulent chefs ting yak', 'succulent chefs ting yam', 'succulent chefs ting yap', 'succulent chefs ting yaw', 'succulent chefs ting zap', 'succulent chefs tiny ado', 'succulent chefs tiny adz', 'succulent chefs tiny ago', 'succulent chefs tiny amp', 'succulent chefs tiny ark', 'succulent chefs tiny arm', 'succulent chefs tiny bad', 'succulent chefs tiny bag', 'succulent chefs tiny bar', 'succulent chefs tiny boa', 'succulent chefs tiny bog', 'succulent chefs tiny bop', 'succulent chefs tiny bow', 'succulent chefs tiny box', 'succulent chefs tiny bra', 'succulent chefs tiny dab', 'succulent chefs tiny dam', 'succulent chefs tiny dog', 'succulent chefs tiny gab', 'succulent chefs tiny gad', 'succulent chefs tiny gap', 'succulent chefs tiny gob', 'succulent chefs tiny god', 'succulent chefs tiny jab', 'succulent chefs tiny jag', 'succulent chefs tiny jam', 'succulent chefs tiny jar', 'succulent chefs tiny jaw', 'succulent chefs tiny job', 'succulent chefs tiny jog', 'succulent chefs tiny mad', 'succulent chefs tiny map', 'succulent chefs tiny mar', 'succulent chefs tiny maw', 'succulent chefs tiny mob', 'succulent chefs tiny mod', 'succulent chefs tiny mop', 'succulent chefs tiny mow', 'succulent chefs tiny oak', 'succulent chefs tiny oar', 'succulent chefs tiny orb', 'succulent chefs tiny ova', 'succulent chefs tiny pad', 'succulent chefs tiny par', 'succulent chefs tiny paw', 'succulent chefs tiny pod', 'succulent chefs tiny pox', 'succulent chefs tiny pro', 'succulent chefs tiny rag', 'succulent chefs tiny ram', 'succulent chefs tiny rap', 'succulent chefs tiny raw', 'succulent chefs tiny rob', 'succulent chefs tiny rod', 'succulent chefs tiny row', 'succulent chefs tiny vow', 'succulent chefs tiny wad', 'succulent chefs tiny wag', 'succulent chefs tiny war', 'succulent chefs tiny wax', 'succulent chefs tiny wok', 'succulent chefs tiny zap', 'succulent chefs tong adz', 'succulent chefs tong aid', 'succulent chefs tong aim', 'succulent chefs tong air', 'succulent chefs tong amp', 'succulent chefs tong ark', 'succulent chefs tong arm', 'succulent chefs tong bad', 'succulent chefs tong bar', 'succulent chefs tong bay', 'succulent chefs tong bid', 'succulent chefs tong bra', 'succulent chefs tong dab', 'succulent chefs tong dam', 'succulent chefs tong day', 'succulent chefs tong dim', 'succulent chefs tong dip', 'succulent chefs tong dry', 'succulent chefs tong imp', 'succulent chefs tong irk', 'succulent chefs tong ivy', 'succulent chefs tong jab', 'succulent chefs tong jam', 'succulent chefs tong jar', 'succulent chefs tong jaw', 'succulent chefs tong jay', 'succulent chefs tong jib', 'succulent chefs tong kid', 'succulent chefs tong mad', 'succulent chefs tong map', 'succulent chefs tong mar', 'succulent chefs tong maw', 'succulent chefs tong may', 'succulent chefs tong mid', 'succulent chefs tong mix', 'succulent chefs tong pad', 'succulent chefs tong par', 'succulent chefs tong paw', 'succulent chefs tong pay', 'succulent chefs tong pry', 'succulent chefs tong pyx', 'succulent chefs tong ram', 'succulent chefs tong rap', 'succulent chefs tong raw', 'succulent chefs tong ray', 'succulent chefs tong rib', 'succulent chefs tong rid', 'succulent chefs tong rim', 'succulent chefs tong rip', 'succulent chefs tong via', 'succulent chefs tong vim', 'succulent chefs tong wad', 'succulent chefs tong war', 'succulent chefs tong wax', 'succulent chefs tong way', 'succulent chefs tong wiz', 'succulent chefs tong wry', 'succulent chefs tong yak', 'succulent chefs tong yam', 'succulent chefs tong yap', 'succulent chefs tong yaw', 'succulent chefs tong yip', 'succulent chefs tong zap', 'succulent chefs tong zip', 'succulent chefs tony adz', 'succulent chefs tony aid', 'succulent chefs tony aim', 'succulent chefs tony air', 'succulent chefs tony amp', 'succulent chefs tony ark', 'succulent chefs tony arm', 'succulent chefs tony bad', 'succulent chefs tony bag', 'succulent chefs tony bar', 'succulent chefs tony bid', 'succulent chefs tony big', 'succulent chefs tony bra', 'succulent chefs tony dab', 'succulent chefs tony dam', 'succulent chefs tony dig', 'succulent chefs tony dim', 'succulent chefs tony dip', 'succulent chefs tony gab', 'succulent chefs tony gad', 'succulent chefs tony gap', 'succulent chefs tony imp', 'succulent chefs tony irk', 'succulent chefs tony jab', 'succulent chefs tony jag', 'succulent chefs tony jam', 'succulent chefs tony jar', 'succulent chefs tony jaw', 'succulent chefs tony jib', 'succulent chefs tony jig', 'succulent chefs tony kid', 'succulent chefs tony mad', 'succulent chefs tony map', 'succulent chefs tony mar', 'succulent chefs tony maw', 'succulent chefs tony mid', 'succulent chefs tony mix', 'succulent chefs tony pad', 'succulent chefs tony par', 'succulent chefs tony paw', 'succulent chefs tony pig', 'succulent chefs tony rag', 'succulent chefs tony ram', 'succulent chefs tony rap', 'succulent chefs tony raw', 'succulent chefs tony rib', 'succulent chefs tony rid', 'succulent chefs tony rig', 'succulent chefs tony rim', 'succulent chefs tony rip', 'succulent chefs tony via', 'succulent chefs tony vim', 'succulent chefs tony wad', 'succulent chefs tony wag', 'succulent chefs tony war', 'succulent chefs tony wax', 'succulent chefs tony wig', 'succulent chefs tony wiz', 'succulent chefs tony zap', 'succulent chefs tony zip', 'succulent chews tang bid', 'succulent chews tang bop', 'succulent chews tang box', 'succulent chews tang boy', 'succulent chews tang dim', 'succulent chews tang dip', 'succulent chews tang dry', 'succulent chews tang fib', 'succulent chews tang fir', 'succulent chews tang fix', 'succulent chews tang fob', 'succulent chews tang fop', 'succulent chews tang for', 'succulent chews tang fox', 'succulent chews tang fro', 'succulent chews tang fry', 'succulent chews tang imp', 'succulent chews tang irk', 'succulent chews tang ivy', 'succulent chews tang jib', 'succulent chews tang job', 'succulent chews tang joy', 'succulent chews tang kid', 'succulent chews tang mid', 'succulent chews tang mix', 'succulent chews tang mob', 'succulent chews tang mod', 'succulent chews tang mop', 'succulent chews tang orb', 'succulent chews tang pod', 'succulent chews tang poi', 'succulent chews tang pox', 'succulent chews tang pro', 'succulent chews tang pry', 'succulent chews tang pyx', 'succulent chews tang rib', 'succulent chews tang rid', 'succulent chews tang rim', 'succulent chews tang rip', 'succulent chews tang rob', 'succulent chews tang rod', 'succulent chews tang vim', 'succulent chews tang yip', 'succulent chews tang zip', 'succulent chews tank bid', 'succulent chews tank big', 'succulent chews tank bog', 'succulent chews tank bop', 'succulent chews tank box', 'succulent chews tank boy', 'succulent chews tank dig', 'succulent chews tank dim', 'succulent chews tank dip', 'succulent chews tank dog', 'succulent chews tank dry', 'succulent chews tank fib', 'succulent chews tank fig', 'succulent chews tank fir', 'succulent chews tank fix', 'succulent chews tank fob', 'succulent chews tank fog', 'succulent chews tank fop', 'succulent chews tank for', 'succulent chews tank fox', 'succulent chews tank fro', 'succulent chews tank fry', 'succulent chews tank gob', 'succulent chews tank god', 'succulent chews tank gym', 'succulent chews tank gyp', 'succulent chews tank imp', 'succulent chews tank ivy', 'succulent chews tank jib', 'succulent chews tank jig', 'succulent chews tank job', 'succulent chews tank jog', 'succulent chews tank joy', 'succulent chews tank mid', 'succulent chews tank mix', 'succulent chews tank mob', 'succulent chews tank mod', 'succulent chews tank mop', 'succulent chews tank orb', 'succulent chews tank pig', 'succulent chews tank pod', 'succulent chews tank poi', 'succulent chews tank pox', 'succulent chews tank pro', 'succulent chews tank pry', 'succulent chews tank pyx', 'succulent chews tank rib', 'succulent chews tank rid', 'succulent chews tank rig', 'succulent chews tank rim', 'succulent chews tank rip', 'succulent chews tank rob', 'succulent chews tank rod', 'succulent chews tank vim', 'succulent chews tank yip', 'succulent chews tank zip', 'succulent chews ting ado', 'succulent chews ting adz', 'succulent chews ting amp', 'succulent chews ting ark', 'succulent chews ting arm', 'succulent chews ting bad', 'succulent chews ting bar', 'succulent chews ting bay', 'succulent chews ting boa', 'succulent chews ting bop', 'succulent chews ting box', 'succulent chews ting boy', 'succulent chews ting bra', 'succulent chews ting dab', 'succulent chews ting dam', 'succulent chews ting day', 'succulent chews ting dry', 'succulent chews ting fad', 'succulent chews ting far', 'succulent chews ting fax', 'succulent chews ting fob', 'succulent chews ting fop', 'succulent chews ting for', 'succulent chews ting fox', 'succulent chews ting fro', 'succulent chews ting fry', 'succulent chews ting jab', 'succulent chews ting jam', 'succulent chews ting jar', 'succulent chews ting jay', 'succulent chews ting job', 'succulent chews ting joy', 'succulent chews ting mad', 'succulent chews ting map', 'succulent chews ting mar', 'succulent chews ting may', 'succulent chews ting mob', 'succulent chews ting mod', 'succulent chews ting mop', 'succulent chews ting oaf', 'succulent chews ting oak', 'succulent chews ting oar', 'succulent chews ting orb', 'succulent chews ting ova', 'succulent chews ting pad', 'succulent chews ting par', 'succulent chews ting pay', 'succulent chews ting pod', 'succulent chews ting pox', 'succulent chews ting pro', 'succulent chews ting pry', 'succulent chews ting pyx', 'succulent chews ting ram', 'succulent chews ting rap', 'succulent chews ting ray', 'succulent chews ting rob', 'succulent chews ting rod', 'succulent chews ting yak', 'succulent chews ting yam', 'succulent chews ting yap', 'succulent chews ting zap', 'succulent chews tiny ado', 'succulent chews tiny adz', 'succulent chews tiny ago', 'succulent chews tiny amp', 'succulent chews tiny ark', 'succulent chews tiny arm', 'succulent chews tiny bad', 'succulent chews tiny bag', 'succulent chews tiny bar', 'succulent chews tiny boa', 'succulent chews tiny bog', 'succulent chews tiny bop', 'succulent chews tiny box', 'succulent chews tiny bra', 'succulent chews tiny dab', 'succulent chews tiny dam', 'succulent chews tiny dog', 'succulent chews tiny fad', 'succulent chews tiny fag', 'succulent chews tiny far', 'succulent chews tiny fax', 'succulent chews tiny fob', 'succulent chews tiny fog', 'succulent chews tiny fop', 'succulent chews tiny for', 'succulent chews tiny fox', 'succulent chews tiny fro', 'succulent chews tiny gab', 'succulent chews tiny gad', 'succulent chews tiny gap', 'succulent chews tiny gob', 'succulent chews tiny god', 'succulent chews tiny jab', 'succulent chews tiny jag', 'succulent chews tiny jam', 'succulent chews tiny jar', 'succulent chews tiny job', 'succulent chews tiny jog', 'succulent chews tiny mad', 'succulent chews tiny map', 'succulent chews tiny mar', 'succulent chews tiny mob', 'succulent chews tiny mod', 'succulent chews tiny mop', 'succulent chews tiny oaf', 'succulent chews tiny oak', 'succulent chews tiny oar', 'succulent chews tiny orb', 'succulent chews tiny ova', 'succulent chews tiny pad', 'succulent chews tiny par', 'succulent chews tiny pod', 'succulent chews tiny pox', 'succulent chews tiny pro', 'succulent chews tiny rag', 'succulent chews tiny ram', 'succulent chews tiny rap', 'succulent chews tiny rob', 'succulent chews tiny rod', 'succulent chews tiny zap', 'succulent chews tong adz', 'succulent chews tong aid', 'succulent chews tong aim', 'succulent chews tong air', 'succulent chews tong amp', 'succulent chews tong ark', 'succulent chews tong arm', 'succulent chews tong bad', 'succulent chews tong bar', 'succulent chews tong bay', 'succulent chews tong bid', 'succulent chews tong bra', 'succulent chews tong dab', 'succulent chews tong dam', 'succulent chews tong day', 'succulent chews tong dim', 'succulent chews tong dip', 'succulent chews tong dry', 'succulent chews tong fad', 'succulent chews tong far', 'succulent chews tong fax', 'succulent chews tong fib', 'succulent chews tong fir', 'succulent chews tong fix', 'succulent chews tong fry', 'succulent chews tong imp', 'succulent chews tong irk', 'succulent chews tong ivy', 'succulent chews tong jab', 'succulent chews tong jam', 'succulent chews tong jar', 'succulent chews tong jay', 'succulent chews tong jib', 'succulent chews tong kid', 'succulent chews tong mad', 'succulent chews tong map', 'succulent chews tong mar', 'succulent chews tong may', 'succulent chews tong mid', 'succulent chews tong mix', 'succulent chews tong pad', 'succulent chews tong par', 'succulent chews tong pay', 'succulent chews tong pry', 'succulent chews tong pyx', 'succulent chews tong ram', 'succulent chews tong rap', 'succulent chews tong ray', 'succulent chews tong rib', 'succulent chews tong rid', 'succulent chews tong rim', 'succulent chews tong rip', 'succulent chews tong via', 'succulent chews tong vim', 'succulent chews tong yak', 'succulent chews tong yam', 'succulent chews tong yap', 'succulent chews tong yip', 'succulent chews tong zap', 'succulent chews tong zip', 'succulent chews tony adz', 'succulent chews tony aid', 'succulent chews tony aim', 'succulent chews tony air', 'succulent chews tony amp', 'succulent chews tony ark', 'succulent chews tony arm', 'succulent chews tony bad', 'succulent chews tony bag', 'succulent chews tony bar', 'succulent chews tony bid', 'succulent chews tony big', 'succulent chews tony bra', 'succulent chews tony dab', 'succulent chews tony dam', 'succulent chews tony dig', 'succulent chews tony dim', 'succulent chews tony dip', 'succulent chews tony fad', 'succulent chews tony fag', 'succulent chews tony far', 'succulent chews tony fax', 'succulent chews tony fib', 'succulent chews tony fig', 'succulent chews tony fir', 'succulent chews tony fix', 'succulent chews tony gab', 'succulent chews tony gad', 'succulent chews tony gap', 'succulent chews tony imp', 'succulent chews tony irk', 'succulent chews tony jab', 'succulent chews tony jag', 'succulent chews tony jam', 'succulent chews tony jar', 'succulent chews tony jib', 'succulent chews tony jig', 'succulent chews tony kid', 'succulent chews tony mad', 'succulent chews tony map', 'succulent chews tony mar', 'succulent chews tony mid', 'succulent chews tony mix', 'succulent chews tony pad', 'succulent chews tony par', 'succulent chews tony pig', 'succulent chews tony rag', 'succulent chews tony ram', 'succulent chews tony rap', 'succulent chews tony rib', 'succulent chews tony rid', 'succulent chews tony rig', 'succulent chews tony rim', 'succulent chews tony rip', 'succulent chews tony via', 'succulent chews tony vim', 'succulent chews tony zap', 'succulent chews tony zip', 'succulent coeds tang fib', 'succulent coeds tang fir', 'succulent coeds tang fix', 'succulent coeds tang fry', 'succulent coeds tang him', 'succulent coeds tang hip', 'succulent coeds tang imp', 'succulent coeds tang irk', 'succulent coeds tang ivy', 'succulent coeds tang jib', 'succulent coeds tang mix', 'succulent coeds tang pry', 'succulent coeds tang pyx', 'succulent coeds tang rib', 'succulent coeds tang rim', 'succulent coeds tang rip', 'succulent coeds tang vim', 'succulent coeds tang why', 'succulent coeds tang wiz', 'succulent coeds tang wry', 'succulent coeds tang yip', 'succulent coeds tang zip', 'succulent coeds tank big', 'succulent coeds tank fib', 'succulent coeds tank fig', 'succulent coeds tank fir', 'succulent coeds tank fix', 'succulent coeds tank fry', 'succulent coeds tank gym', 'succulent coeds tank gyp', 'succulent coeds tank him', 'succulent coeds tank hip', 'succulent coeds tank imp', 'succulent coeds tank ivy', 'succulent coeds tank jib', 'succulent coeds tank jig', 'succulent coeds tank mix', 'succulent coeds tank pig', 'succulent coeds tank pry', 'succulent coeds tank pyx', 'succulent coeds tank rib', 'succulent coeds tank rig', 'succulent coeds tank rim', 'succulent coeds tank rip', 'succulent coeds tank vim', 'succulent coeds tank why', 'succulent coeds tank wig', 'succulent coeds tank wiz', 'succulent coeds tank wry', 'succulent coeds tank yip', 'succulent coeds tank zip', 'succulent coeds ting amp', 'succulent coeds ting ark', 'succulent coeds ting arm', 'succulent coeds ting bah', 'succulent coeds ting bar', 'succulent coeds ting bay', 'succulent coeds ting bra', 'succulent coeds ting far', 'succulent coeds ting fax', 'succulent coeds ting fry', 'succulent coeds ting ham', 'succulent coeds ting haw', 'succulent coeds ting hay', 'succulent coeds ting jab', 'succulent coeds ting jam', 'succulent coeds ting jar', 'succulent coeds ting jaw', 'succulent coeds ting jay', 'succulent coeds ting map', 'succulent coeds ting mar', 'succulent coeds ting maw', 'succulent coeds ting may', 'succulent coeds ting par', 'succulent coeds ting paw', 'succulent coeds ting pay', 'succulent coeds ting pry', 'succulent coeds ting pyx', 'succulent coeds ting ram', 'succulent coeds ting rap', 'succulent coeds ting raw', 'succulent coeds ting ray', 'succulent coeds ting war', 'succulent coeds ting wax', 'succulent coeds ting way', 'succulent coeds ting why', 'succulent coeds ting wry', 'succulent coeds ting yak', 'succulent coeds ting yam', 'succulent coeds ting yap', 'succulent coeds ting yaw', 'succulent coeds ting zap', 'succulent coeds tiny amp', 'succulent coeds tiny ark', 'succulent coeds tiny arm', 'succulent coeds tiny bag', 'succulent coeds tiny bah', 'succulent coeds tiny bar', 'succulent coeds tiny bra', 'succulent coeds tiny fag', 'succulent coeds tiny far', 'succulent coeds tiny fax', 'succulent coeds tiny gab', 'succulent coeds tiny gap', 'succulent coeds tiny hag', 'succulent coeds tiny ham', 'succulent coeds tiny haw', 'succulent coeds tiny jab', 'succulent coeds tiny jag', 'succulent coeds tiny jam', 'succulent coeds tiny jar', 'succulent coeds tiny jaw', 'succulent coeds tiny map', 'succulent coeds tiny mar', 'succulent coeds tiny maw', 'succulent coeds tiny par', 'succulent coeds tiny paw', 'succulent coeds tiny rag', 'succulent coeds tiny ram', 'succulent coeds tiny rap', 'succulent coeds tiny raw', 'succulent coeds tiny wag', 'succulent coeds tiny war', 'succulent coeds tiny wax', 'succulent coeds tiny zap', 'succulent crews tang bid', 'succulent crews tang bop', 'succulent crews tang box', 'succulent crews tang boy', 'succulent crews tang dim', 'succulent crews tang dip', 'succulent crews tang fib', 'succulent crews tang fix', 'succulent crews tang fob', 'succulent crews tang fop', 'succulent crews tang fox', 'succulent crews tang hid', 'succulent crews tang him', 'succulent crews tang hip', 'succulent crews tang hob', 'succulent crews tang hod', 'succulent crews tang hop', 'succulent crews tang imp', 'succulent crews tang ivy', 'succulent crews tang jib', 'succulent crews tang job', 'succulent crews tang joy', 'succulent crews tang kid', 'succulent crews tang mid', 'succulent crews tang mix', 'succulent crews tang mob', 'succulent crews tang mod', 'succulent crews tang mop', 'succulent crews tang ohm', 'succulent crews tang pod', 'succulent crews tang poi', 'succulent crews tang pox', 'succulent crews tang pyx', 'succulent crews tang vim', 'succulent crews tang yip', 'succulent crews tang zip', 'succulent crews tank bid', 'succulent crews tank big', 'succulent crews tank bog', 'succulent crews tank bop', 'succulent crews tank box', 'succulent crews tank boy', 'succulent crews tank dig', 'succulent crews tank dim', 'succulent crews tank dip', 'succulent crews tank dog', 'succulent crews tank fib', 'succulent crews tank fig', 'succulent crews tank fix', 'succulent crews tank fob', 'succulent crews tank fog', 'succulent crews tank fop', 'succulent crews tank fox', 'succulent crews tank gob', 'succulent crews tank god', 'succulent crews tank gym', 'succulent crews tank gyp', 'succulent crews tank hid', 'succulent crews tank him', 'succulent crews tank hip', 'succulent crews tank hob', 'succulent crews tank hod', 'succulent crews tank hog', 'succulent crews tank hop', 'succulent crews tank imp', 'succulent crews tank ivy', 'succulent crews tank jib', 'succulent crews tank jig', 'succulent crews tank job', 'succulent crews tank jog', 'succulent crews tank joy', 'succulent crews tank mid', 'succulent crews tank mix', 'succulent crews tank mob', 'succulent crews tank mod', 'succulent crews tank mop', 'succulent crews tank ohm', 'succulent crews tank pig', 'succulent crews tank pod', 'succulent crews tank poi', 'succulent crews tank pox', 'succulent crews tank pyx', 'succulent crews tank vim', 'succulent crews tank yip', 'succulent crews tank zip', 'succulent crews ting ado', 'succulent crews ting adz', 'succulent crews ting amp', 'succulent crews ting bad', 'succulent crews ting bah', 'succulent crews ting bay', 'succulent crews ting boa', 'succulent crews ting bop', 'succulent crews ting box', 'succulent crews ting boy', 'succulent crews ting dab', 'succulent crews ting dam', 'succulent crews ting day', 'succulent crews ting fad', 'succulent crews ting fax', 'succulent crews ting fob', 'succulent crews ting fop', 'succulent crews ting fox', 'succulent crews ting had', 'succulent crews ting ham', 'succulent crews ting hay', 'succulent crews ting hob', 'succulent crews ting hod', 'succulent crews ting hop', 'succulent crews ting jab', 'succulent crews ting jam', 'succulent crews ting jay', 'succulent crews ting job', 'succulent crews ting joy', 'succulent crews ting mad', 'succulent crews ting map', 'succulent crews ting may', 'succulent crews ting mob', 'succulent crews ting mod', 'succulent crews ting mop', 'succulent crews ting oaf', 'succulent crews ting oak', 'succulent crews ting ohm', 'succulent crews ting ova', 'succulent crews ting pad', 'succulent crews ting pay', 'succulent crews ting pod', 'succulent crews ting pox', 'succulent crews ting pyx', 'succulent crews ting yak', 'succulent crews ting yam', 'succulent crews ting yap', 'succulent crews ting zap', 'succulent crews tiny ado', 'succulent crews tiny adz', 'succulent crews tiny ago', 'succulent crews tiny amp', 'succulent crews tiny bad', 'succulent crews tiny bag', 'succulent crews tiny bah', 'succulent crews tiny boa', 'succulent crews tiny bog', 'succulent crews tiny bop', 'succulent crews tiny box', 'succulent crews tiny dab', 'succulent crews tiny dam', 'succulent crews tiny dog', 'succulent crews tiny fad', 'succulent crews tiny fag', 'succulent crews tiny fax', 'succulent crews tiny fob', 'succulent crews tiny fog', 'succulent crews tiny fop', 'succulent crews tiny fox', 'succulent crews tiny gab', 'succulent crews tiny gad', 'succulent crews tiny gap', 'succulent crews tiny gob', 'succulent crews tiny god', 'succulent crews tiny had', 'succulent crews tiny hag', 'succulent crews tiny ham', 'succulent crews tiny hob', 'succulent crews tiny hod', 'succulent crews tiny hog', 'succulent crews tiny hop', 'succulent crews tiny jab', 'succulent crews tiny jag', 'succulent crews tiny jam', 'succulent crews tiny job', 'succulent crews tiny jog', 'succulent crews tiny mad', 'succulent crews tiny map', 'succulent crews tiny mob', 'succulent crews tiny mod', 'succulent crews tiny mop', 'succulent crews tiny oaf', 'succulent crews tiny oak', 'succulent crews tiny ohm', 'succulent crews tiny ova', 'succulent crews tiny pad', 'succulent crews tiny pod', 'succulent crews tiny pox', 'succulent crews tiny zap', 'succulent crews tong adz', 'succulent crews tong aid', 'succulent crews tong aim', 'succulent crews tong amp', 'succulent crews tong bad', 'succulent crews tong bah', 'succulent crews tong bay', 'succulent crews tong bid', 'succulent crews tong dab', 'succulent crews tong dam', 'succulent crews tong day', 'succulent crews tong dim', 'succulent crews tong dip', 'succulent crews tong fad', 'succulent crews tong fax', 'succulent crews tong fib', 'succulent crews tong fix', 'succulent crews tong had', 'succulent crews tong ham', 'succulent crews tong hay', 'succulent crews tong hid', 'succulent crews tong him', 'succulent crews tong hip', 'succulent crews tong imp', 'succulent crews tong ivy', 'succulent crews tong jab', 'succulent crews tong jam', 'succulent crews tong jay', 'succulent crews tong jib', 'succulent crews tong kid', 'succulent crews tong mad', 'succulent crews tong map', 'succulent crews tong may', 'succulent crews tong mid', 'succulent crews tong mix', 'succulent crews tong pad', 'succulent crews tong pay', 'succulent crews tong pyx', 'succulent crews tong via', 'succulent crews tong vim', 'succulent crews tong yak', 'succulent crews tong yam', 'succulent crews tong yap', 'succulent crews tong yip', 'succulent crews tong zap', 'succulent crews tong zip', 'succulent crews tony adz', 'succulent crews tony aid', 'succulent crews tony aim', 'succulent crews tony amp', 'succulent crews tony bad', 'succulent crews tony bag', 'succulent crews tony bah', 'succulent crews tony bid', 'succulent crews tony big', 'succulent crews tony dab', 'succulent crews tony dam', 'succulent crews tony dig', 'succulent crews tony dim', 'succulent crews tony dip', 'succulent crews tony fad', 'succulent crews tony fag', 'succulent crews tony fax', 'succulent crews tony fib', 'succulent crews tony fig', 'succulent crews tony fix', 'succulent crews tony gab', 'succulent crews tony gad', 'succulent crews tony gap', 'succulent crews tony had', 'succulent crews tony hag', 'succulent crews tony ham', 'succulent crews tony hid', 'succulent crews tony him', 'succulent crews tony hip', 'succulent crews tony imp', 'succulent crews tony jab', 'succulent crews tony jag', 'succulent crews tony jam', 'succulent crews tony jib', 'succulent crews tony jig', 'succulent crews tony kid', 'succulent crews tony mad', 'succulent crews tony map', 'succulent crews tony mid', 'succulent crews tony mix', 'succulent crews tony pad', 'succulent crews tony pig', 'succulent crews tony via', 'succulent crews tony vim', 'succulent crews tony zap', 'succulent crews tony zip']\n"
     ]
    }
   ],
   "source": [
    "collocation_needed4 = []\n",
    "mask_collocation_needed = mask(first_word + ' ' + second_word + ' ' + third_word + ' ' + fourth_word)\n",
    "for firstsecondthird in collocation_needed3:\n",
    "    for fourth in word_needed4:\n",
    "        if mask_collocation_needed == mask(firstsecondthird+' '+fourth):\n",
    "            collocation_needed4.append(firstsecondthird+' '+fourth)\n",
    "print(collocation_needed4)"
   ]
  },
  {
   "cell_type": "markdown",
   "metadata": {},
   "source": [
    "Че-то фиговастенько они пересекаются. Надо сортировать слова не по длине, а по количеству букв, которые повторяются во фразе."
   ]
  }
 ],
 "metadata": {
  "kernelspec": {
   "display_name": "Python 3",
   "language": "python",
   "name": "python3"
  },
  "language_info": {
   "codemirror_mode": {
    "name": "ipython",
    "version": 3
   },
   "file_extension": ".py",
   "mimetype": "text/x-python",
   "name": "python",
   "nbconvert_exporter": "python",
   "pygments_lexer": "ipython3",
   "version": "3.5.1"
  }
 },
 "nbformat": 4,
 "nbformat_minor": 0
}
